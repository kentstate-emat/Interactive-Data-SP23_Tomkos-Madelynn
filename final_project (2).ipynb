{
 "cells": [
  {
   "cell_type": "code",
   "execution_count": 56,
   "id": "2af555db",
   "metadata": {},
   "outputs": [],
   "source": [
    "import plotly.offline as pyo\n",
    "import pandas as pd\n",
    "from matplotlib import pyplot as plt\n",
    "import plotly.express as px\n",
    "import plotly.graph_objects as go\n",
    "import math\n",
    "import plotly.graph_objects as go"
   ]
  },
  {
   "cell_type": "code",
   "execution_count": 3,
   "id": "7ed9375c",
   "metadata": {
    "collapsed": true
   },
   "outputs": [
    {
     "ename": "TypeError",
     "evalue": "unsupported operand type(s) for /: 'str' and 'int'",
     "output_type": "error",
     "traceback": [
      "\u001b[0;31m---------------------------------------------------------------------------\u001b[0m",
      "\u001b[0;31mTypeError\u001b[0m                                 Traceback (most recent call last)",
      "Cell \u001b[0;32mIn[3], line 2\u001b[0m\n\u001b[1;32m      1\u001b[0m data \u001b[38;5;241m=\u001b[39m pd\u001b[38;5;241m.\u001b[39mread_csv(\u001b[38;5;124m'\u001b[39m\u001b[38;5;124mInteractive Data Final Project.csv\u001b[39m\u001b[38;5;124m'\u001b[39m)\n\u001b[0;32m----> 2\u001b[0m fig \u001b[38;5;241m=\u001b[39m \u001b[43mpx\u001b[49m\u001b[38;5;241;43m.\u001b[39;49m\u001b[43mscatter\u001b[49m\u001b[43m(\u001b[49m\u001b[43mdata\u001b[49m\u001b[43m,\u001b[49m\u001b[43m \u001b[49m\u001b[43mx\u001b[49m\u001b[43m \u001b[49m\u001b[38;5;241;43m=\u001b[39;49m\u001b[43m \u001b[49m\u001b[38;5;124;43m\"\u001b[39;49m\u001b[38;5;124;43mEntry-Level_Marketing_Starting_Salary\u001b[39;49m\u001b[38;5;124;43m\"\u001b[39;49m\u001b[43m,\u001b[49m\u001b[43m \u001b[49m\u001b[43my\u001b[49m\u001b[43m \u001b[49m\u001b[38;5;241;43m=\u001b[39;49m\u001b[43m \u001b[49m\u001b[38;5;124;43m\"\u001b[39;49m\u001b[38;5;124;43mCities_Median_Income\u001b[39;49m\u001b[38;5;124;43m\"\u001b[39;49m\u001b[43m,\u001b[49m\u001b[43m \u001b[49m\u001b[43msize\u001b[49m\u001b[43m \u001b[49m\u001b[38;5;241;43m=\u001b[39;49m\u001b[43m \u001b[49m\u001b[38;5;124;43m\"\u001b[39;49m\u001b[38;5;124;43mCities_Population\u001b[39;49m\u001b[38;5;124;43m\"\u001b[39;49m\u001b[43m,\u001b[49m\u001b[43m \u001b[49m\u001b[43mcolor_discrete_sequence\u001b[49m\u001b[43m \u001b[49m\u001b[38;5;241;43m=\u001b[39;49m\u001b[43m \u001b[49m\u001b[43m[\u001b[49m\u001b[38;5;124;43m'\u001b[39;49m\u001b[38;5;124;43mred\u001b[39;49m\u001b[38;5;124;43m'\u001b[39;49m\u001b[43m]\u001b[49m\u001b[43m,\u001b[49m\u001b[43m \u001b[49m\u001b[43mopacity\u001b[49m\u001b[43m \u001b[49m\u001b[38;5;241;43m=\u001b[39;49m\u001b[43m \u001b[49m\u001b[38;5;241;43m0.7\u001b[39;49m\u001b[43m,\u001b[49m\u001b[43m \u001b[49m\u001b[43mtitle\u001b[49m\u001b[38;5;241;43m=\u001b[39;49m\u001b[38;5;124;43m'\u001b[39;49m\u001b[38;5;124;43mMedian income vs starting salary\u001b[39;49m\u001b[38;5;124;43m'\u001b[39;49m\u001b[43m)\u001b[49m\n\u001b[1;32m      3\u001b[0m fig\u001b[38;5;241m.\u001b[39mshow()\n",
      "File \u001b[0;32m~/opt/anaconda3/envs/interdata/lib/python3.9/site-packages/plotly/express/_chart_types.py:66\u001b[0m, in \u001b[0;36mscatter\u001b[0;34m(data_frame, x, y, color, symbol, size, hover_name, hover_data, custom_data, text, facet_row, facet_col, facet_col_wrap, facet_row_spacing, facet_col_spacing, error_x, error_x_minus, error_y, error_y_minus, animation_frame, animation_group, category_orders, labels, orientation, color_discrete_sequence, color_discrete_map, color_continuous_scale, range_color, color_continuous_midpoint, symbol_sequence, symbol_map, opacity, size_max, marginal_x, marginal_y, trendline, trendline_options, trendline_color_override, trendline_scope, log_x, log_y, range_x, range_y, render_mode, title, template, width, height)\u001b[0m\n\u001b[1;32m     12\u001b[0m \u001b[38;5;28;01mdef\u001b[39;00m \u001b[38;5;21mscatter\u001b[39m(\n\u001b[1;32m     13\u001b[0m     data_frame\u001b[38;5;241m=\u001b[39m\u001b[38;5;28;01mNone\u001b[39;00m,\n\u001b[1;32m     14\u001b[0m     x\u001b[38;5;241m=\u001b[39m\u001b[38;5;28;01mNone\u001b[39;00m,\n\u001b[0;32m   (...)\u001b[0m\n\u001b[1;32m     60\u001b[0m     height\u001b[38;5;241m=\u001b[39m\u001b[38;5;28;01mNone\u001b[39;00m,\n\u001b[1;32m     61\u001b[0m ) \u001b[38;5;241m-\u001b[39m\u001b[38;5;241m>\u001b[39m go\u001b[38;5;241m.\u001b[39mFigure:\n\u001b[1;32m     62\u001b[0m     \u001b[38;5;124;03m\"\"\"\u001b[39;00m\n\u001b[1;32m     63\u001b[0m \u001b[38;5;124;03m    In a scatter plot, each row of `data_frame` is represented by a symbol\u001b[39;00m\n\u001b[1;32m     64\u001b[0m \u001b[38;5;124;03m    mark in 2D space.\u001b[39;00m\n\u001b[1;32m     65\u001b[0m \u001b[38;5;124;03m    \"\"\"\u001b[39;00m\n\u001b[0;32m---> 66\u001b[0m     \u001b[38;5;28;01mreturn\u001b[39;00m \u001b[43mmake_figure\u001b[49m\u001b[43m(\u001b[49m\u001b[43margs\u001b[49m\u001b[38;5;241;43m=\u001b[39;49m\u001b[38;5;28;43mlocals\u001b[39;49m\u001b[43m(\u001b[49m\u001b[43m)\u001b[49m\u001b[43m,\u001b[49m\u001b[43m \u001b[49m\u001b[43mconstructor\u001b[49m\u001b[38;5;241;43m=\u001b[39;49m\u001b[43mgo\u001b[49m\u001b[38;5;241;43m.\u001b[39;49m\u001b[43mScatter\u001b[49m\u001b[43m)\u001b[49m\n",
      "File \u001b[0;32m~/opt/anaconda3/envs/interdata/lib/python3.9/site-packages/plotly/express/_core.py:2005\u001b[0m, in \u001b[0;36mmake_figure\u001b[0;34m(args, constructor, trace_patch, layout_patch)\u001b[0m\n\u001b[1;32m   2002\u001b[0m     constructor \u001b[38;5;241m=\u001b[39m go\u001b[38;5;241m.\u001b[39mBar\n\u001b[1;32m   2003\u001b[0m     args \u001b[38;5;241m=\u001b[39m process_dataframe_timeline(args)\n\u001b[0;32m-> 2005\u001b[0m trace_specs, grouped_mappings, sizeref, show_colorbar \u001b[38;5;241m=\u001b[39m \u001b[43minfer_config\u001b[49m\u001b[43m(\u001b[49m\n\u001b[1;32m   2006\u001b[0m \u001b[43m    \u001b[49m\u001b[43margs\u001b[49m\u001b[43m,\u001b[49m\u001b[43m \u001b[49m\u001b[43mconstructor\u001b[49m\u001b[43m,\u001b[49m\u001b[43m \u001b[49m\u001b[43mtrace_patch\u001b[49m\u001b[43m,\u001b[49m\u001b[43m \u001b[49m\u001b[43mlayout_patch\u001b[49m\n\u001b[1;32m   2007\u001b[0m \u001b[43m\u001b[49m\u001b[43m)\u001b[49m\n\u001b[1;32m   2008\u001b[0m grouper \u001b[38;5;241m=\u001b[39m [x\u001b[38;5;241m.\u001b[39mgrouper \u001b[38;5;129;01mor\u001b[39;00m one_group \u001b[38;5;28;01mfor\u001b[39;00m x \u001b[38;5;129;01min\u001b[39;00m grouped_mappings] \u001b[38;5;129;01mor\u001b[39;00m [one_group]\n\u001b[1;32m   2009\u001b[0m groups, orders \u001b[38;5;241m=\u001b[39m get_groups_and_orders(args, grouper)\n",
      "File \u001b[0;32m~/opt/anaconda3/envs/interdata/lib/python3.9/site-packages/plotly/express/_core.py:1718\u001b[0m, in \u001b[0;36minfer_config\u001b[0;34m(args, constructor, trace_patch, layout_patch)\u001b[0m\n\u001b[1;32m   1716\u001b[0m sizeref \u001b[38;5;241m=\u001b[39m \u001b[38;5;241m0\u001b[39m\n\u001b[1;32m   1717\u001b[0m \u001b[38;5;28;01mif\u001b[39;00m \u001b[38;5;124m\"\u001b[39m\u001b[38;5;124msize\u001b[39m\u001b[38;5;124m\"\u001b[39m \u001b[38;5;129;01min\u001b[39;00m args \u001b[38;5;129;01mand\u001b[39;00m args[\u001b[38;5;124m\"\u001b[39m\u001b[38;5;124msize\u001b[39m\u001b[38;5;124m\"\u001b[39m]:\n\u001b[0;32m-> 1718\u001b[0m     sizeref \u001b[38;5;241m=\u001b[39m \u001b[43margs\u001b[49m\u001b[43m[\u001b[49m\u001b[38;5;124;43m\"\u001b[39;49m\u001b[38;5;124;43mdata_frame\u001b[39;49m\u001b[38;5;124;43m\"\u001b[39;49m\u001b[43m]\u001b[49m\u001b[43m[\u001b[49m\u001b[43margs\u001b[49m\u001b[43m[\u001b[49m\u001b[38;5;124;43m\"\u001b[39;49m\u001b[38;5;124;43msize\u001b[39;49m\u001b[38;5;124;43m\"\u001b[39;49m\u001b[43m]\u001b[49m\u001b[43m]\u001b[49m\u001b[38;5;241;43m.\u001b[39;49m\u001b[43mmax\u001b[49m\u001b[43m(\u001b[49m\u001b[43m)\u001b[49m\u001b[43m \u001b[49m\u001b[38;5;241;43m/\u001b[39;49m\u001b[43m \u001b[49m\u001b[43margs\u001b[49m\u001b[43m[\u001b[49m\u001b[38;5;124;43m\"\u001b[39;49m\u001b[38;5;124;43msize_max\u001b[39;49m\u001b[38;5;124;43m\"\u001b[39;49m\u001b[43m]\u001b[49m\u001b[43m \u001b[49m\u001b[38;5;241;43m*\u001b[39;49m\u001b[38;5;241;43m*\u001b[39;49m\u001b[43m \u001b[49m\u001b[38;5;241;43m2\u001b[39;49m\n\u001b[1;32m   1720\u001b[0m \u001b[38;5;66;03m# Compute color attributes and grouping attributes\u001b[39;00m\n\u001b[1;32m   1721\u001b[0m \u001b[38;5;28;01mif\u001b[39;00m \u001b[38;5;124m\"\u001b[39m\u001b[38;5;124mcolor\u001b[39m\u001b[38;5;124m\"\u001b[39m \u001b[38;5;129;01min\u001b[39;00m args:\n",
      "\u001b[0;31mTypeError\u001b[0m: unsupported operand type(s) for /: 'str' and 'int'"
     ]
    }
   ],
   "source": [
    "data = pd.read_csv('Interactive Data Final Project.csv')\n",
    "fig = px.scatter(data, x = \"Entry-Level_Marketing_Starting_Salary\", y = \"Cities_Median_Income\", size = \"Cities_Population\", color_discrete_sequence = ['red'], opacity = 0.7, title='Median income vs starting salary')\n",
    "fig.show()"
   ]
  },
  {
   "cell_type": "code",
   "execution_count": 49,
   "id": "5e66e3f4",
   "metadata": {},
   "outputs": [
    {
     "data": {
      "text/plain": [
       "'47752'"
      ]
     },
     "execution_count": 49,
     "metadata": {},
     "output_type": "execute_result"
    }
   ],
   "source": [
    "data['Entry-Level_Marketing_Starting_Salary'][0].strip(' ').strip('$').replace(',', '')"
   ]
  },
  {
   "cell_type": "code",
   "execution_count": 69,
   "id": "e44b8a35",
   "metadata": {},
   "outputs": [
    {
     "data": {
      "application/vnd.plotly.v1+json": {
       "config": {
        "plotlyServerURL": "https://plot.ly"
       },
       "data": [
        {
         "marker": {
          "color": [
           35000,
           40000,
           45000,
           50000,
           55000
          ],
          "line": {
           "width": 2
          },
          "showscale": true,
          "size": [
           818.5658189785352,
           676.5145970339443,
           641.4054879715327,
           737.0495234378759,
           622.1334262037365,
           856.6907259915914,
           991.7101391031555,
           902.8848210043184,
           1175.4194995830212,
           1204.928628591752,
           724.5971294450455,
           684.9262734046636,
           800.7259206495066,
           1274.585815078765,
           1255.4883512004403,
           698.0687645210893,
           829.2918665946266,
           658.6524121264569,
           2909.899139145548,
           613.9796413562913,
           823.9241469941271,
           652.1778898429477,
           754.539594719853,
           663.242037268447,
           713.7751746873802,
           792.5446359669593,
           792.839201856215,
           1961.9625378686515,
           675.3236261230611,
           804.2325534321525,
           713.0175313412707,
           977.043499543393,
           939.1693138087509,
           1512.696268257445,
           737.9092085073881,
           967.216625167289,
           823.6595170335859,
           795.2760527011989,
           843.4826613511389,
           1135.102198042097,
           952.117639790378,
           695.6694617417096,
           1642.119057803057,
           937.9280356189381,
           809.1823033161317,
           759.2746538638044,
           981.9251498968748,
           704.5998864603939,
           626.7264155913647,
           750.0659970962555
          ],
          "sizemode": "area",
          "sizeref": 0.5819798278291096
         },
         "mode": "markers",
         "text": [
          "Popular U.S. Cities: Washington, D.C.<br>Entry-Level_Marketing_Starting_Salary:  $47,752 <br>Cities_Median_Income:  $90,842 <br>Cities_Population:  670,050 <br>",
          "Popular U.S. Cities: Virginia Beach, VA<br>Entry-Level_Marketing_Starting_Salary:  $41,009 <br>Cities_Median_Income:  $78,136 <br>Cities_Population:  457,672 <br>",
          "Popular U.S. Cities: Tulsa, OK<br>Entry-Level_Marketing_Starting_Salary:  $40,855 <br>Cities_Median_Income:  $49,474 <br>Cities_Population:  411,401 <br>",
          "Popular U.S. Cities: Tucson, AZ<br>Entry-Level_Marketing_Starting_Salary:  $40,692 <br>Cities_Median_Income:  $45,227 <br>Cities_Population:  543,242 <br>",
          "Popular U.S. Cities: Tampa, FL<br>Entry-Level_Marketing_Starting_Salary:  $40,829 <br>Cities_Median_Income:  $55,634 <br>Cities_Population:  387,050 <br>",
          "Popular U.S. Cities: Seattle, WA<br>Entry-Level_Marketing_Starting_Salary:  $47,332 <br>Cities_Median_Income:  $97,185 <br>Cities_Population:  733,919 <br>",
          "Popular U.S. Cities: San Jose, CA<br>Entry-Level_Marketing_Starting_Salary:  $53,835 <br>Cities_Median_Income:  $117,324 <br>Cities_Population:  983,489 <br>",
          "Popular U.S. Cities: San Francisco, CA<br>Entry-Level_Marketing_Starting_Salary:  $53,621 <br>Cities_Median_Income:  $119,136 <br>Cities_Population:  815,201 <br>",
          "Popular U.S. Cities: San Diego, CA<br>Entry-Level_Marketing_Starting_Salary:  $46,292 <br>Cities_Median_Income:  $83,454 <br>Cities_Population:  1,381,611 <br>",
          "Popular U.S. Cities: San Antonio, TX<br>Entry-Level_Marketing_Starting_Salary:  $41,369 <br>Cities_Median_Income:  $53,420 <br>Cities_Population:  1,451,853 <br>",
          "Popular U.S. Cities: Sacramento, CA<br>Entry-Level_Marketing_Starting_Salary:  $46,453 <br>Cities_Median_Income:  $65,847 <br>Cities_Population:  525,041 <br>",
          "Popular U.S. Cities: Raleigh, NC<br>Entry-Level_Marketing_Starting_Salary:  $41,811 <br>Cities_Median_Income:  $69,720 <br>Cities_Population:  469,124 <br>",
          "Popular U.S. Cities: Portland, OR<br>Entry-Level_Marketing_Starting_Salary:  $44,690 <br>Cities_Median_Income:  $73,159 <br>Cities_Population:  641,162 <br>",
          "Popular U.S. Cities: Phoenix, AZ<br>Entry-Level_Marketing_Starting_Salary:  $42,375 <br>Cities_Median_Income:  $60,914 <br>Cities_Population:  1,624,569 <br>",
          "Popular U.S. Cities: Philadelphia, PA<br>Entry-Level_Marketing_Starting_Salary:  $45,522 <br>Cities_Median_Income:  $49,127 <br>Cities_Population:  1,576,251 <br>",
          "Popular U.S. Cities: Omaha, NE<br>Entry-Level_Marketing_Starting_Salary:  $40,556 <br>Cities_Median_Income:  $62,213 <br>Cities_Population:  487,300 <br>",
          "Popular U.S. Cities: Oklahoma City, OK<br>Entry-Level_Marketing_Starting_Salary:  $39,186 <br>Cities_Median_Income:  $56,456 <br>Cities_Population:  687,725 <br>",
          "Popular U.S. Cities: Oakland, CA<br>Entry-Level_Marketing_Starting_Salary:  $52,334 <br>Cities_Median_Income:  $80,143 <br>Cities_Population:  433,823 <br>",
          "Popular U.S. Cities: New York City, NY<br>Entry-Level_Marketing_Starting_Salary:  $50,403 <br>Cities_Median_Income:  $67,046 <br>Cities_Population:  8,467,513 <br>",
          "Popular U.S. Cities: New Orleans, LA<br>Entry-Level_Marketing_Starting_Salary:  $41,997 <br>Cities_Median_Income:  $43,258 <br>Cities_Population:  376,971 <br>",
          "Popular U.S. Cities: Nashville, TN<br>Entry-Level_Marketing_Starting_Salary:  $39,994 <br>Cities_Median_Income:  $62,087 <br>Cities_Population:  678,851 <br>",
          "Popular U.S. Cities: Minneapolis, MN<br>Entry-Level_Marketing_Starting_Salary:  $45,702 <br>Cities_Median_Income:  $66,068 <br>Cities_Population:  425,336 <br>",
          "Popular U.S. Cities: Milwaukee, WI<br>Entry-Level_Marketing_Starting_Salary:  $42,454 <br>Cities_Median_Income:  $43,125 <br>Cities_Population:  569,330 <br>",
          "Popular U.S. Cities: Miami, FL<br>Entry-Level_Marketing_Starting_Salary:  $41,632 <br>Cities_Median_Income:  $44,268 <br>Cities_Population:  439,890 <br>",
          "Popular U.S. Cities: Mesa, AZ<br>Entry-Level_Marketing_Starting_Salary:  $42,382 <br>Cities_Median_Income:  $61,640 <br>Cities_Population:  509,475 <br>",
          "Popular U.S. Cities: Memphis, TN<br>Entry-Level_Marketing_Starting_Salary:  $39,752 <br>Cities_Median_Income:  $41,864 <br>Cities_Population:  628,127 <br>",
          "Popular U.S. Cities: Louisville, KY<br>Entry-Level_Marketing_Starting_Salary:  $40,722 <br>Cities_Median_Income:  $54,929 <br>Cities_Population:  628,594 <br>",
          "Popular U.S. Cities: Los Angeles, CA<br>Entry-Level_Marketing_Starting_Salary:  $48,160 <br>Cities_Median_Income:  $65,290 <br>Cities_Population:  3,849,297 <br>",
          "Popular U.S. Cities: Long Beach, CA<br>Entry-Level_Marketing_Starting_Salary:  $47,830 <br>Cities_Median_Income:  $66,410 <br>Cities_Population:  456,062 <br>",
          "Popular U.S. Cities: Las Vegas, NV<br>Entry-Level_Marketing_Starting_Salary:  $43,604 <br>Cities_Median_Income:  $58,377 <br>Cities_Population:  646,790 <br>",
          "Popular U.S. Cities: Kansas City, MO<br>Entry-Level_Marketing_Starting_Salary:  $42,069 <br>Cities_Median_Income:  $56,179 <br>Cities_Population:  508,394 <br>",
          "Popular U.S. Cities: Jacksonville, FL<br>Entry-Level_Marketing_Starting_Salary:  $40,786 <br>Cities_Median_Income:  $55,531 <br>Cities_Population:  954,614 <br>",
          "Popular U.S. Cities: Indianapolis, IN<br>Entry-Level_Marketing_Starting_Salary:  $41,738 <br>Cities_Median_Income:  $50,813 <br>Cities_Population:  882,039 <br>",
          "Popular U.S. Cities: Houston, TX<br>Entry-Level_Marketing_Starting_Salary:  $43,647 <br>Cities_Median_Income:  $53,600 <br>Cities_Population:  2,288,250 <br>",
          "Popular U.S. Cities: Fresno, California<br>Entry-Level_Marketing_Starting_Salary:  $42,982 <br>Cities_Median_Income:  $53,368 <br>Cities_Population:  544,510 <br>",
          "Popular U.S. Cities: Fort Worth, TX<br>Entry-Level_Marketing_Starting_Salary:  $41,799 <br>Cities_Median_Income:  $64,567 <br>Cities_Population:  935,508 <br>",
          "Popular U.S. Cities: El Paso, TX<br>Entry-Level_Marketing_Starting_Salary:  $37,520 <br>Cities_Median_Income:  $48,866 <br>Cities_Population:  678,415 <br>",
          "Popular U.S. Cities: Detroit, MI<br>Entry-Level_Marketing_Starting_Salary:  $43,373 <br>Cities_Median_Income:  $32,498 <br>Cities_Population:  632,464 <br>",
          "Popular U.S. Cities: Denver, CO<br>Entry-Level_Marketing_Starting_Salary:  $43,596 <br>Cities_Median_Income:  $72,661 <br>Cities_Population:  711,463 <br>",
          "Popular U.S. Cities: Dallas, TX<br>Entry-Level_Marketing_Starting_Salary:  $42,618 <br>Cities_Median_Income:  $54,747 <br>Cities_Population:  1,288,457 <br>",
          "Popular U.S. Cities: Columbus, OH<br>Entry-Level_Marketing_Starting_Salary:  $42,119 <br>Cities_Median_Income:  $54,902 <br>Cities_Population:  906,528 <br>",
          "Popular U.S. Cities: Colorado Springs, CO<br>Entry-Level_Marketing_Starting_Salary:  $42,695 <br>Cities_Median_Income:  $67,719 <br>Cities_Population:  483,956 <br>",
          "Popular U.S. Cities: Chicago, IL<br>Entry-Level_Marketing_Starting_Salary:  $45,252 <br>Cities_Median_Income:  $62,097 <br>Cities_Population:  2,696,555 <br>",
          "Popular U.S. Cities: Charlotte, NC<br>Entry-Level_Marketing_Starting_Salary:  $41,905 <br>Cities_Median_Income:  $65,359 <br>Cities_Population:  879,709 <br>",
          "Popular U.S. Cities: Boston, MA<br>Entry-Level_Marketing_Starting_Salary:  $48,332 <br>Cities_Median_Income:  $76,298 <br>Cities_Population:  654,776 <br>",
          "Popular U.S. Cities: Baltimore, MA<br>Entry-Level_Marketing_Starting_Salary:  $44,098 <br>Cities_Median_Income:  $52,164 <br>Cities_Population:  576,498 <br>",
          "Popular U.S. Cities: Austin, TX<br>Entry-Level_Marketing_Starting_Salary:  $42,189 <br>Cities_Median_Income:  $75,752 <br>Cities_Population:  964,177 <br>",
          "Popular U.S. Cities: Atlanta, GA<br>Entry-Level_Marketing_Starting_Salary:  $42,133 <br>Cities_Median_Income:  $64,179 <br>Cities_Population:  496,461 <br>",
          "Popular U.S. Cities: Arlington, TX<br>Entry-Level_Marketing_Starting_Salary:  $41,730 <br>Cities_Median_Income:  $63,351 <br>Cities_Population:  392,786 <br>",
          "Popular U.S. Cities: Albuquerque, NM<br>Entry-Level_Marketing_Starting_Salary:  $40,333 <br>Cities_Median_Income:  $53,936 <br>Cities_Population:  562,599 <br>"
         ],
         "type": "scatter",
         "x": [
          " $90,842 ",
          " $78,136 ",
          " $49,474 ",
          " $45,227 ",
          " $55,634 ",
          " $97,185 ",
          " $117,324 ",
          " $119,136 ",
          " $83,454 ",
          " $53,420 ",
          " $65,847 ",
          " $69,720 ",
          " $73,159 ",
          " $60,914 ",
          " $49,127 ",
          " $62,213 ",
          " $56,456 ",
          " $80,143 ",
          " $67,046 ",
          " $43,258 ",
          " $62,087 ",
          " $66,068 ",
          " $43,125 ",
          " $44,268 ",
          " $61,640 ",
          " $41,864 ",
          " $54,929 ",
          " $65,290 ",
          " $66,410 ",
          " $58,377 ",
          " $56,179 ",
          " $55,531 ",
          " $50,813 ",
          " $53,600 ",
          " $53,368 ",
          " $64,567 ",
          " $48,866 ",
          " $32,498 ",
          " $72,661 ",
          " $54,747 ",
          " $54,902 ",
          " $67,719 ",
          " $62,097 ",
          " $65,359 ",
          " $76,298 ",
          " $52,164 ",
          " $75,752 ",
          " $64,179 ",
          " $63,351 ",
          " $53,936 "
         ],
         "y": [
          47752,
          41009,
          40855,
          40692,
          40829,
          47332,
          53835,
          53621,
          46292,
          41369,
          46453,
          41811,
          44690,
          42375,
          45522,
          40556,
          39186,
          52334,
          50403,
          41997,
          39994,
          45702,
          42454,
          41632,
          42382,
          39752,
          40722,
          48160,
          47830,
          43604,
          42069,
          40786,
          41738,
          43647,
          42982,
          41799,
          37520,
          43373,
          43596,
          42618,
          42119,
          42695,
          45252,
          41905,
          48332,
          44098,
          42189,
          42133,
          41730,
          40333
         ]
        }
       ],
       "layout": {
        "paper_bgcolor": "rgb(243, 243, 243)",
        "plot_bgcolor": "rgb(243, 243, 243)",
        "template": {
         "data": {
          "bar": [
           {
            "error_x": {
             "color": "#2a3f5f"
            },
            "error_y": {
             "color": "#2a3f5f"
            },
            "marker": {
             "line": {
              "color": "#E5ECF6",
              "width": 0.5
             },
             "pattern": {
              "fillmode": "overlay",
              "size": 10,
              "solidity": 0.2
             }
            },
            "type": "bar"
           }
          ],
          "barpolar": [
           {
            "marker": {
             "line": {
              "color": "#E5ECF6",
              "width": 0.5
             },
             "pattern": {
              "fillmode": "overlay",
              "size": 10,
              "solidity": 0.2
             }
            },
            "type": "barpolar"
           }
          ],
          "carpet": [
           {
            "aaxis": {
             "endlinecolor": "#2a3f5f",
             "gridcolor": "white",
             "linecolor": "white",
             "minorgridcolor": "white",
             "startlinecolor": "#2a3f5f"
            },
            "baxis": {
             "endlinecolor": "#2a3f5f",
             "gridcolor": "white",
             "linecolor": "white",
             "minorgridcolor": "white",
             "startlinecolor": "#2a3f5f"
            },
            "type": "carpet"
           }
          ],
          "choropleth": [
           {
            "colorbar": {
             "outlinewidth": 0,
             "ticks": ""
            },
            "type": "choropleth"
           }
          ],
          "contour": [
           {
            "colorbar": {
             "outlinewidth": 0,
             "ticks": ""
            },
            "colorscale": [
             [
              0,
              "#0d0887"
             ],
             [
              0.1111111111111111,
              "#46039f"
             ],
             [
              0.2222222222222222,
              "#7201a8"
             ],
             [
              0.3333333333333333,
              "#9c179e"
             ],
             [
              0.4444444444444444,
              "#bd3786"
             ],
             [
              0.5555555555555556,
              "#d8576b"
             ],
             [
              0.6666666666666666,
              "#ed7953"
             ],
             [
              0.7777777777777778,
              "#fb9f3a"
             ],
             [
              0.8888888888888888,
              "#fdca26"
             ],
             [
              1,
              "#f0f921"
             ]
            ],
            "type": "contour"
           }
          ],
          "contourcarpet": [
           {
            "colorbar": {
             "outlinewidth": 0,
             "ticks": ""
            },
            "type": "contourcarpet"
           }
          ],
          "heatmap": [
           {
            "colorbar": {
             "outlinewidth": 0,
             "ticks": ""
            },
            "colorscale": [
             [
              0,
              "#0d0887"
             ],
             [
              0.1111111111111111,
              "#46039f"
             ],
             [
              0.2222222222222222,
              "#7201a8"
             ],
             [
              0.3333333333333333,
              "#9c179e"
             ],
             [
              0.4444444444444444,
              "#bd3786"
             ],
             [
              0.5555555555555556,
              "#d8576b"
             ],
             [
              0.6666666666666666,
              "#ed7953"
             ],
             [
              0.7777777777777778,
              "#fb9f3a"
             ],
             [
              0.8888888888888888,
              "#fdca26"
             ],
             [
              1,
              "#f0f921"
             ]
            ],
            "type": "heatmap"
           }
          ],
          "heatmapgl": [
           {
            "colorbar": {
             "outlinewidth": 0,
             "ticks": ""
            },
            "colorscale": [
             [
              0,
              "#0d0887"
             ],
             [
              0.1111111111111111,
              "#46039f"
             ],
             [
              0.2222222222222222,
              "#7201a8"
             ],
             [
              0.3333333333333333,
              "#9c179e"
             ],
             [
              0.4444444444444444,
              "#bd3786"
             ],
             [
              0.5555555555555556,
              "#d8576b"
             ],
             [
              0.6666666666666666,
              "#ed7953"
             ],
             [
              0.7777777777777778,
              "#fb9f3a"
             ],
             [
              0.8888888888888888,
              "#fdca26"
             ],
             [
              1,
              "#f0f921"
             ]
            ],
            "type": "heatmapgl"
           }
          ],
          "histogram": [
           {
            "marker": {
             "pattern": {
              "fillmode": "overlay",
              "size": 10,
              "solidity": 0.2
             }
            },
            "type": "histogram"
           }
          ],
          "histogram2d": [
           {
            "colorbar": {
             "outlinewidth": 0,
             "ticks": ""
            },
            "colorscale": [
             [
              0,
              "#0d0887"
             ],
             [
              0.1111111111111111,
              "#46039f"
             ],
             [
              0.2222222222222222,
              "#7201a8"
             ],
             [
              0.3333333333333333,
              "#9c179e"
             ],
             [
              0.4444444444444444,
              "#bd3786"
             ],
             [
              0.5555555555555556,
              "#d8576b"
             ],
             [
              0.6666666666666666,
              "#ed7953"
             ],
             [
              0.7777777777777778,
              "#fb9f3a"
             ],
             [
              0.8888888888888888,
              "#fdca26"
             ],
             [
              1,
              "#f0f921"
             ]
            ],
            "type": "histogram2d"
           }
          ],
          "histogram2dcontour": [
           {
            "colorbar": {
             "outlinewidth": 0,
             "ticks": ""
            },
            "colorscale": [
             [
              0,
              "#0d0887"
             ],
             [
              0.1111111111111111,
              "#46039f"
             ],
             [
              0.2222222222222222,
              "#7201a8"
             ],
             [
              0.3333333333333333,
              "#9c179e"
             ],
             [
              0.4444444444444444,
              "#bd3786"
             ],
             [
              0.5555555555555556,
              "#d8576b"
             ],
             [
              0.6666666666666666,
              "#ed7953"
             ],
             [
              0.7777777777777778,
              "#fb9f3a"
             ],
             [
              0.8888888888888888,
              "#fdca26"
             ],
             [
              1,
              "#f0f921"
             ]
            ],
            "type": "histogram2dcontour"
           }
          ],
          "mesh3d": [
           {
            "colorbar": {
             "outlinewidth": 0,
             "ticks": ""
            },
            "type": "mesh3d"
           }
          ],
          "parcoords": [
           {
            "line": {
             "colorbar": {
              "outlinewidth": 0,
              "ticks": ""
             }
            },
            "type": "parcoords"
           }
          ],
          "pie": [
           {
            "automargin": true,
            "type": "pie"
           }
          ],
          "scatter": [
           {
            "fillpattern": {
             "fillmode": "overlay",
             "size": 10,
             "solidity": 0.2
            },
            "type": "scatter"
           }
          ],
          "scatter3d": [
           {
            "line": {
             "colorbar": {
              "outlinewidth": 0,
              "ticks": ""
             }
            },
            "marker": {
             "colorbar": {
              "outlinewidth": 0,
              "ticks": ""
             }
            },
            "type": "scatter3d"
           }
          ],
          "scattercarpet": [
           {
            "marker": {
             "colorbar": {
              "outlinewidth": 0,
              "ticks": ""
             }
            },
            "type": "scattercarpet"
           }
          ],
          "scattergeo": [
           {
            "marker": {
             "colorbar": {
              "outlinewidth": 0,
              "ticks": ""
             }
            },
            "type": "scattergeo"
           }
          ],
          "scattergl": [
           {
            "marker": {
             "colorbar": {
              "outlinewidth": 0,
              "ticks": ""
             }
            },
            "type": "scattergl"
           }
          ],
          "scattermapbox": [
           {
            "marker": {
             "colorbar": {
              "outlinewidth": 0,
              "ticks": ""
             }
            },
            "type": "scattermapbox"
           }
          ],
          "scatterpolar": [
           {
            "marker": {
             "colorbar": {
              "outlinewidth": 0,
              "ticks": ""
             }
            },
            "type": "scatterpolar"
           }
          ],
          "scatterpolargl": [
           {
            "marker": {
             "colorbar": {
              "outlinewidth": 0,
              "ticks": ""
             }
            },
            "type": "scatterpolargl"
           }
          ],
          "scatterternary": [
           {
            "marker": {
             "colorbar": {
              "outlinewidth": 0,
              "ticks": ""
             }
            },
            "type": "scatterternary"
           }
          ],
          "surface": [
           {
            "colorbar": {
             "outlinewidth": 0,
             "ticks": ""
            },
            "colorscale": [
             [
              0,
              "#0d0887"
             ],
             [
              0.1111111111111111,
              "#46039f"
             ],
             [
              0.2222222222222222,
              "#7201a8"
             ],
             [
              0.3333333333333333,
              "#9c179e"
             ],
             [
              0.4444444444444444,
              "#bd3786"
             ],
             [
              0.5555555555555556,
              "#d8576b"
             ],
             [
              0.6666666666666666,
              "#ed7953"
             ],
             [
              0.7777777777777778,
              "#fb9f3a"
             ],
             [
              0.8888888888888888,
              "#fdca26"
             ],
             [
              1,
              "#f0f921"
             ]
            ],
            "type": "surface"
           }
          ],
          "table": [
           {
            "cells": {
             "fill": {
              "color": "#EBF0F8"
             },
             "line": {
              "color": "white"
             }
            },
            "header": {
             "fill": {
              "color": "#C8D4E3"
             },
             "line": {
              "color": "white"
             }
            },
            "type": "table"
           }
          ]
         },
         "layout": {
          "annotationdefaults": {
           "arrowcolor": "#2a3f5f",
           "arrowhead": 0,
           "arrowwidth": 1
          },
          "autotypenumbers": "strict",
          "coloraxis": {
           "colorbar": {
            "outlinewidth": 0,
            "ticks": ""
           }
          },
          "colorscale": {
           "diverging": [
            [
             0,
             "#8e0152"
            ],
            [
             0.1,
             "#c51b7d"
            ],
            [
             0.2,
             "#de77ae"
            ],
            [
             0.3,
             "#f1b6da"
            ],
            [
             0.4,
             "#fde0ef"
            ],
            [
             0.5,
             "#f7f7f7"
            ],
            [
             0.6,
             "#e6f5d0"
            ],
            [
             0.7,
             "#b8e186"
            ],
            [
             0.8,
             "#7fbc41"
            ],
            [
             0.9,
             "#4d9221"
            ],
            [
             1,
             "#276419"
            ]
           ],
           "sequential": [
            [
             0,
             "#0d0887"
            ],
            [
             0.1111111111111111,
             "#46039f"
            ],
            [
             0.2222222222222222,
             "#7201a8"
            ],
            [
             0.3333333333333333,
             "#9c179e"
            ],
            [
             0.4444444444444444,
             "#bd3786"
            ],
            [
             0.5555555555555556,
             "#d8576b"
            ],
            [
             0.6666666666666666,
             "#ed7953"
            ],
            [
             0.7777777777777778,
             "#fb9f3a"
            ],
            [
             0.8888888888888888,
             "#fdca26"
            ],
            [
             1,
             "#f0f921"
            ]
           ],
           "sequentialminus": [
            [
             0,
             "#0d0887"
            ],
            [
             0.1111111111111111,
             "#46039f"
            ],
            [
             0.2222222222222222,
             "#7201a8"
            ],
            [
             0.3333333333333333,
             "#9c179e"
            ],
            [
             0.4444444444444444,
             "#bd3786"
            ],
            [
             0.5555555555555556,
             "#d8576b"
            ],
            [
             0.6666666666666666,
             "#ed7953"
            ],
            [
             0.7777777777777778,
             "#fb9f3a"
            ],
            [
             0.8888888888888888,
             "#fdca26"
            ],
            [
             1,
             "#f0f921"
            ]
           ]
          },
          "colorway": [
           "#636efa",
           "#EF553B",
           "#00cc96",
           "#ab63fa",
           "#FFA15A",
           "#19d3f3",
           "#FF6692",
           "#B6E880",
           "#FF97FF",
           "#FECB52"
          ],
          "font": {
           "color": "#2a3f5f"
          },
          "geo": {
           "bgcolor": "white",
           "lakecolor": "white",
           "landcolor": "#E5ECF6",
           "showlakes": true,
           "showland": true,
           "subunitcolor": "white"
          },
          "hoverlabel": {
           "align": "left"
          },
          "hovermode": "closest",
          "mapbox": {
           "style": "light"
          },
          "paper_bgcolor": "white",
          "plot_bgcolor": "#E5ECF6",
          "polar": {
           "angularaxis": {
            "gridcolor": "white",
            "linecolor": "white",
            "ticks": ""
           },
           "bgcolor": "#E5ECF6",
           "radialaxis": {
            "gridcolor": "white",
            "linecolor": "white",
            "ticks": ""
           }
          },
          "scene": {
           "xaxis": {
            "backgroundcolor": "#E5ECF6",
            "gridcolor": "white",
            "gridwidth": 2,
            "linecolor": "white",
            "showbackground": true,
            "ticks": "",
            "zerolinecolor": "white"
           },
           "yaxis": {
            "backgroundcolor": "#E5ECF6",
            "gridcolor": "white",
            "gridwidth": 2,
            "linecolor": "white",
            "showbackground": true,
            "ticks": "",
            "zerolinecolor": "white"
           },
           "zaxis": {
            "backgroundcolor": "#E5ECF6",
            "gridcolor": "white",
            "gridwidth": 2,
            "linecolor": "white",
            "showbackground": true,
            "ticks": "",
            "zerolinecolor": "white"
           }
          },
          "shapedefaults": {
           "line": {
            "color": "#2a3f5f"
           }
          },
          "ternary": {
           "aaxis": {
            "gridcolor": "white",
            "linecolor": "white",
            "ticks": ""
           },
           "baxis": {
            "gridcolor": "white",
            "linecolor": "white",
            "ticks": ""
           },
           "bgcolor": "#E5ECF6",
           "caxis": {
            "gridcolor": "white",
            "linecolor": "white",
            "ticks": ""
           }
          },
          "title": {
           "x": 0.05
          },
          "xaxis": {
           "automargin": true,
           "gridcolor": "white",
           "linecolor": "white",
           "ticks": "",
           "title": {
            "standoff": 15
           },
           "zerolinecolor": "white",
           "zerolinewidth": 2
          },
          "yaxis": {
           "automargin": true,
           "gridcolor": "white",
           "linecolor": "white",
           "ticks": "",
           "title": {
            "standoff": 15
           },
           "zerolinecolor": "white",
           "zerolinewidth": 2
          }
         }
        },
        "title": {
         "text": "Entry-Level Marketing Starting Salary vs Cities Median Income"
        },
        "xaxis": {
         "gridcolor": "white",
         "gridwidth": 2,
         "title": {
          "text": "Cities Median Income"
         },
         "type": "log"
        },
        "yaxis": {
         "gridcolor": "white",
         "gridwidth": 2,
         "title": {
          "text": "Entry-Level Marketing Starting Salary"
         }
        }
       }
      },
      "text/html": [
       "<div>                            <div id=\"a99f9990-4c56-475d-bf93-f676a6537b77\" class=\"plotly-graph-div\" style=\"height:525px; width:100%;\"></div>            <script type=\"text/javascript\">                require([\"plotly\"], function(Plotly) {                    window.PLOTLYENV=window.PLOTLYENV || {};                                    if (document.getElementById(\"a99f9990-4c56-475d-bf93-f676a6537b77\")) {                    Plotly.newPlot(                        \"a99f9990-4c56-475d-bf93-f676a6537b77\",                        [{\"marker\":{\"color\":[35000,40000,45000,50000,55000],\"showscale\":true,\"size\":[818.5658189785352,676.5145970339443,641.4054879715327,737.0495234378759,622.1334262037365,856.6907259915914,991.7101391031555,902.8848210043184,1175.4194995830212,1204.928628591752,724.5971294450455,684.9262734046636,800.7259206495066,1274.585815078765,1255.4883512004403,698.0687645210893,829.2918665946266,658.6524121264569,2909.899139145548,613.9796413562913,823.9241469941271,652.1778898429477,754.539594719853,663.242037268447,713.7751746873802,792.5446359669593,792.839201856215,1961.9625378686515,675.3236261230611,804.2325534321525,713.0175313412707,977.043499543393,939.1693138087509,1512.696268257445,737.9092085073881,967.216625167289,823.6595170335859,795.2760527011989,843.4826613511389,1135.102198042097,952.117639790378,695.6694617417096,1642.119057803057,937.9280356189381,809.1823033161317,759.2746538638044,981.9251498968748,704.5998864603939,626.7264155913647,750.0659970962555],\"line\":{\"width\":2},\"sizemode\":\"area\",\"sizeref\":0.5819798278291096},\"mode\":\"markers\",\"text\":[\"Popular U.S. Cities: Washington, D.C.<br>Entry-Level_Marketing_Starting_Salary:  $47,752 <br>Cities_Median_Income:  $90,842 <br>Cities_Population:  670,050 <br>\",\"Popular U.S. Cities: Virginia Beach, VA<br>Entry-Level_Marketing_Starting_Salary:  $41,009 <br>Cities_Median_Income:  $78,136 <br>Cities_Population:  457,672 <br>\",\"Popular U.S. Cities: Tulsa, OK<br>Entry-Level_Marketing_Starting_Salary:  $40,855 <br>Cities_Median_Income:  $49,474 <br>Cities_Population:  411,401 <br>\",\"Popular U.S. Cities: Tucson, AZ<br>Entry-Level_Marketing_Starting_Salary:  $40,692 <br>Cities_Median_Income:  $45,227 <br>Cities_Population:  543,242 <br>\",\"Popular U.S. Cities: Tampa, FL<br>Entry-Level_Marketing_Starting_Salary:  $40,829 <br>Cities_Median_Income:  $55,634 <br>Cities_Population:  387,050 <br>\",\"Popular U.S. Cities: Seattle, WA<br>Entry-Level_Marketing_Starting_Salary:  $47,332 <br>Cities_Median_Income:  $97,185 <br>Cities_Population:  733,919 <br>\",\"Popular U.S. Cities: San Jose, CA<br>Entry-Level_Marketing_Starting_Salary:  $53,835 <br>Cities_Median_Income:  $117,324 <br>Cities_Population:  983,489 <br>\",\"Popular U.S. Cities: San Francisco, CA<br>Entry-Level_Marketing_Starting_Salary:  $53,621 <br>Cities_Median_Income:  $119,136 <br>Cities_Population:  815,201 <br>\",\"Popular U.S. Cities: San Diego, CA<br>Entry-Level_Marketing_Starting_Salary:  $46,292 <br>Cities_Median_Income:  $83,454 <br>Cities_Population:  1,381,611 <br>\",\"Popular U.S. Cities: San Antonio, TX<br>Entry-Level_Marketing_Starting_Salary:  $41,369 <br>Cities_Median_Income:  $53,420 <br>Cities_Population:  1,451,853 <br>\",\"Popular U.S. Cities: Sacramento, CA<br>Entry-Level_Marketing_Starting_Salary:  $46,453 <br>Cities_Median_Income:  $65,847 <br>Cities_Population:  525,041 <br>\",\"Popular U.S. Cities: Raleigh, NC<br>Entry-Level_Marketing_Starting_Salary:  $41,811 <br>Cities_Median_Income:  $69,720 <br>Cities_Population:  469,124 <br>\",\"Popular U.S. Cities: Portland, OR<br>Entry-Level_Marketing_Starting_Salary:  $44,690 <br>Cities_Median_Income:  $73,159 <br>Cities_Population:  641,162 <br>\",\"Popular U.S. Cities: Phoenix, AZ<br>Entry-Level_Marketing_Starting_Salary:  $42,375 <br>Cities_Median_Income:  $60,914 <br>Cities_Population:  1,624,569 <br>\",\"Popular U.S. Cities: Philadelphia, PA<br>Entry-Level_Marketing_Starting_Salary:  $45,522 <br>Cities_Median_Income:  $49,127 <br>Cities_Population:  1,576,251 <br>\",\"Popular U.S. Cities: Omaha, NE<br>Entry-Level_Marketing_Starting_Salary:  $40,556 <br>Cities_Median_Income:  $62,213 <br>Cities_Population:  487,300 <br>\",\"Popular U.S. Cities: Oklahoma City, OK<br>Entry-Level_Marketing_Starting_Salary:  $39,186 <br>Cities_Median_Income:  $56,456 <br>Cities_Population:  687,725 <br>\",\"Popular U.S. Cities: Oakland, CA<br>Entry-Level_Marketing_Starting_Salary:  $52,334 <br>Cities_Median_Income:  $80,143 <br>Cities_Population:  433,823 <br>\",\"Popular U.S. Cities: New York City, NY<br>Entry-Level_Marketing_Starting_Salary:  $50,403 <br>Cities_Median_Income:  $67,046 <br>Cities_Population:  8,467,513 <br>\",\"Popular U.S. Cities: New Orleans, LA<br>Entry-Level_Marketing_Starting_Salary:  $41,997 <br>Cities_Median_Income:  $43,258 <br>Cities_Population:  376,971 <br>\",\"Popular U.S. Cities: Nashville, TN<br>Entry-Level_Marketing_Starting_Salary:  $39,994 <br>Cities_Median_Income:  $62,087 <br>Cities_Population:  678,851 <br>\",\"Popular U.S. Cities: Minneapolis, MN<br>Entry-Level_Marketing_Starting_Salary:  $45,702 <br>Cities_Median_Income:  $66,068 <br>Cities_Population:  425,336 <br>\",\"Popular U.S. Cities: Milwaukee, WI<br>Entry-Level_Marketing_Starting_Salary:  $42,454 <br>Cities_Median_Income:  $43,125 <br>Cities_Population:  569,330 <br>\",\"Popular U.S. Cities: Miami, FL<br>Entry-Level_Marketing_Starting_Salary:  $41,632 <br>Cities_Median_Income:  $44,268 <br>Cities_Population:  439,890 <br>\",\"Popular U.S. Cities: Mesa, AZ<br>Entry-Level_Marketing_Starting_Salary:  $42,382 <br>Cities_Median_Income:  $61,640 <br>Cities_Population:  509,475 <br>\",\"Popular U.S. Cities: Memphis, TN<br>Entry-Level_Marketing_Starting_Salary:  $39,752 <br>Cities_Median_Income:  $41,864 <br>Cities_Population:  628,127 <br>\",\"Popular U.S. Cities: Louisville, KY<br>Entry-Level_Marketing_Starting_Salary:  $40,722 <br>Cities_Median_Income:  $54,929 <br>Cities_Population:  628,594 <br>\",\"Popular U.S. Cities: Los Angeles, CA<br>Entry-Level_Marketing_Starting_Salary:  $48,160 <br>Cities_Median_Income:  $65,290 <br>Cities_Population:  3,849,297 <br>\",\"Popular U.S. Cities: Long Beach, CA<br>Entry-Level_Marketing_Starting_Salary:  $47,830 <br>Cities_Median_Income:  $66,410 <br>Cities_Population:  456,062 <br>\",\"Popular U.S. Cities: Las Vegas, NV<br>Entry-Level_Marketing_Starting_Salary:  $43,604 <br>Cities_Median_Income:  $58,377 <br>Cities_Population:  646,790 <br>\",\"Popular U.S. Cities: Kansas City, MO<br>Entry-Level_Marketing_Starting_Salary:  $42,069 <br>Cities_Median_Income:  $56,179 <br>Cities_Population:  508,394 <br>\",\"Popular U.S. Cities: Jacksonville, FL<br>Entry-Level_Marketing_Starting_Salary:  $40,786 <br>Cities_Median_Income:  $55,531 <br>Cities_Population:  954,614 <br>\",\"Popular U.S. Cities: Indianapolis, IN<br>Entry-Level_Marketing_Starting_Salary:  $41,738 <br>Cities_Median_Income:  $50,813 <br>Cities_Population:  882,039 <br>\",\"Popular U.S. Cities: Houston, TX<br>Entry-Level_Marketing_Starting_Salary:  $43,647 <br>Cities_Median_Income:  $53,600 <br>Cities_Population:  2,288,250 <br>\",\"Popular U.S. Cities: Fresno, California<br>Entry-Level_Marketing_Starting_Salary:  $42,982 <br>Cities_Median_Income:  $53,368 <br>Cities_Population:  544,510 <br>\",\"Popular U.S. Cities: Fort Worth, TX<br>Entry-Level_Marketing_Starting_Salary:  $41,799 <br>Cities_Median_Income:  $64,567 <br>Cities_Population:  935,508 <br>\",\"Popular U.S. Cities: El Paso, TX<br>Entry-Level_Marketing_Starting_Salary:  $37,520 <br>Cities_Median_Income:  $48,866 <br>Cities_Population:  678,415 <br>\",\"Popular U.S. Cities: Detroit, MI<br>Entry-Level_Marketing_Starting_Salary:  $43,373 <br>Cities_Median_Income:  $32,498 <br>Cities_Population:  632,464 <br>\",\"Popular U.S. Cities: Denver, CO<br>Entry-Level_Marketing_Starting_Salary:  $43,596 <br>Cities_Median_Income:  $72,661 <br>Cities_Population:  711,463 <br>\",\"Popular U.S. Cities: Dallas, TX<br>Entry-Level_Marketing_Starting_Salary:  $42,618 <br>Cities_Median_Income:  $54,747 <br>Cities_Population:  1,288,457 <br>\",\"Popular U.S. Cities: Columbus, OH<br>Entry-Level_Marketing_Starting_Salary:  $42,119 <br>Cities_Median_Income:  $54,902 <br>Cities_Population:  906,528 <br>\",\"Popular U.S. Cities: Colorado Springs, CO<br>Entry-Level_Marketing_Starting_Salary:  $42,695 <br>Cities_Median_Income:  $67,719 <br>Cities_Population:  483,956 <br>\",\"Popular U.S. Cities: Chicago, IL<br>Entry-Level_Marketing_Starting_Salary:  $45,252 <br>Cities_Median_Income:  $62,097 <br>Cities_Population:  2,696,555 <br>\",\"Popular U.S. Cities: Charlotte, NC<br>Entry-Level_Marketing_Starting_Salary:  $41,905 <br>Cities_Median_Income:  $65,359 <br>Cities_Population:  879,709 <br>\",\"Popular U.S. Cities: Boston, MA<br>Entry-Level_Marketing_Starting_Salary:  $48,332 <br>Cities_Median_Income:  $76,298 <br>Cities_Population:  654,776 <br>\",\"Popular U.S. Cities: Baltimore, MA<br>Entry-Level_Marketing_Starting_Salary:  $44,098 <br>Cities_Median_Income:  $52,164 <br>Cities_Population:  576,498 <br>\",\"Popular U.S. Cities: Austin, TX<br>Entry-Level_Marketing_Starting_Salary:  $42,189 <br>Cities_Median_Income:  $75,752 <br>Cities_Population:  964,177 <br>\",\"Popular U.S. Cities: Atlanta, GA<br>Entry-Level_Marketing_Starting_Salary:  $42,133 <br>Cities_Median_Income:  $64,179 <br>Cities_Population:  496,461 <br>\",\"Popular U.S. Cities: Arlington, TX<br>Entry-Level_Marketing_Starting_Salary:  $41,730 <br>Cities_Median_Income:  $63,351 <br>Cities_Population:  392,786 <br>\",\"Popular U.S. Cities: Albuquerque, NM<br>Entry-Level_Marketing_Starting_Salary:  $40,333 <br>Cities_Median_Income:  $53,936 <br>Cities_Population:  562,599 <br>\"],\"x\":[\" $90,842 \",\" $78,136 \",\" $49,474 \",\" $45,227 \",\" $55,634 \",\" $97,185 \",\" $117,324 \",\" $119,136 \",\" $83,454 \",\" $53,420 \",\" $65,847 \",\" $69,720 \",\" $73,159 \",\" $60,914 \",\" $49,127 \",\" $62,213 \",\" $56,456 \",\" $80,143 \",\" $67,046 \",\" $43,258 \",\" $62,087 \",\" $66,068 \",\" $43,125 \",\" $44,268 \",\" $61,640 \",\" $41,864 \",\" $54,929 \",\" $65,290 \",\" $66,410 \",\" $58,377 \",\" $56,179 \",\" $55,531 \",\" $50,813 \",\" $53,600 \",\" $53,368 \",\" $64,567 \",\" $48,866 \",\" $32,498 \",\" $72,661 \",\" $54,747 \",\" $54,902 \",\" $67,719 \",\" $62,097 \",\" $65,359 \",\" $76,298 \",\" $52,164 \",\" $75,752 \",\" $64,179 \",\" $63,351 \",\" $53,936 \"],\"y\":[47752,41009,40855,40692,40829,47332,53835,53621,46292,41369,46453,41811,44690,42375,45522,40556,39186,52334,50403,41997,39994,45702,42454,41632,42382,39752,40722,48160,47830,43604,42069,40786,41738,43647,42982,41799,37520,43373,43596,42618,42119,42695,45252,41905,48332,44098,42189,42133,41730,40333],\"type\":\"scatter\"}],                        {\"template\":{\"data\":{\"histogram2dcontour\":[{\"type\":\"histogram2dcontour\",\"colorbar\":{\"outlinewidth\":0,\"ticks\":\"\"},\"colorscale\":[[0.0,\"#0d0887\"],[0.1111111111111111,\"#46039f\"],[0.2222222222222222,\"#7201a8\"],[0.3333333333333333,\"#9c179e\"],[0.4444444444444444,\"#bd3786\"],[0.5555555555555556,\"#d8576b\"],[0.6666666666666666,\"#ed7953\"],[0.7777777777777778,\"#fb9f3a\"],[0.8888888888888888,\"#fdca26\"],[1.0,\"#f0f921\"]]}],\"choropleth\":[{\"type\":\"choropleth\",\"colorbar\":{\"outlinewidth\":0,\"ticks\":\"\"}}],\"histogram2d\":[{\"type\":\"histogram2d\",\"colorbar\":{\"outlinewidth\":0,\"ticks\":\"\"},\"colorscale\":[[0.0,\"#0d0887\"],[0.1111111111111111,\"#46039f\"],[0.2222222222222222,\"#7201a8\"],[0.3333333333333333,\"#9c179e\"],[0.4444444444444444,\"#bd3786\"],[0.5555555555555556,\"#d8576b\"],[0.6666666666666666,\"#ed7953\"],[0.7777777777777778,\"#fb9f3a\"],[0.8888888888888888,\"#fdca26\"],[1.0,\"#f0f921\"]]}],\"heatmap\":[{\"type\":\"heatmap\",\"colorbar\":{\"outlinewidth\":0,\"ticks\":\"\"},\"colorscale\":[[0.0,\"#0d0887\"],[0.1111111111111111,\"#46039f\"],[0.2222222222222222,\"#7201a8\"],[0.3333333333333333,\"#9c179e\"],[0.4444444444444444,\"#bd3786\"],[0.5555555555555556,\"#d8576b\"],[0.6666666666666666,\"#ed7953\"],[0.7777777777777778,\"#fb9f3a\"],[0.8888888888888888,\"#fdca26\"],[1.0,\"#f0f921\"]]}],\"heatmapgl\":[{\"type\":\"heatmapgl\",\"colorbar\":{\"outlinewidth\":0,\"ticks\":\"\"},\"colorscale\":[[0.0,\"#0d0887\"],[0.1111111111111111,\"#46039f\"],[0.2222222222222222,\"#7201a8\"],[0.3333333333333333,\"#9c179e\"],[0.4444444444444444,\"#bd3786\"],[0.5555555555555556,\"#d8576b\"],[0.6666666666666666,\"#ed7953\"],[0.7777777777777778,\"#fb9f3a\"],[0.8888888888888888,\"#fdca26\"],[1.0,\"#f0f921\"]]}],\"contourcarpet\":[{\"type\":\"contourcarpet\",\"colorbar\":{\"outlinewidth\":0,\"ticks\":\"\"}}],\"contour\":[{\"type\":\"contour\",\"colorbar\":{\"outlinewidth\":0,\"ticks\":\"\"},\"colorscale\":[[0.0,\"#0d0887\"],[0.1111111111111111,\"#46039f\"],[0.2222222222222222,\"#7201a8\"],[0.3333333333333333,\"#9c179e\"],[0.4444444444444444,\"#bd3786\"],[0.5555555555555556,\"#d8576b\"],[0.6666666666666666,\"#ed7953\"],[0.7777777777777778,\"#fb9f3a\"],[0.8888888888888888,\"#fdca26\"],[1.0,\"#f0f921\"]]}],\"surface\":[{\"type\":\"surface\",\"colorbar\":{\"outlinewidth\":0,\"ticks\":\"\"},\"colorscale\":[[0.0,\"#0d0887\"],[0.1111111111111111,\"#46039f\"],[0.2222222222222222,\"#7201a8\"],[0.3333333333333333,\"#9c179e\"],[0.4444444444444444,\"#bd3786\"],[0.5555555555555556,\"#d8576b\"],[0.6666666666666666,\"#ed7953\"],[0.7777777777777778,\"#fb9f3a\"],[0.8888888888888888,\"#fdca26\"],[1.0,\"#f0f921\"]]}],\"mesh3d\":[{\"type\":\"mesh3d\",\"colorbar\":{\"outlinewidth\":0,\"ticks\":\"\"}}],\"scatter\":[{\"fillpattern\":{\"fillmode\":\"overlay\",\"size\":10,\"solidity\":0.2},\"type\":\"scatter\"}],\"parcoords\":[{\"type\":\"parcoords\",\"line\":{\"colorbar\":{\"outlinewidth\":0,\"ticks\":\"\"}}}],\"scatterpolargl\":[{\"type\":\"scatterpolargl\",\"marker\":{\"colorbar\":{\"outlinewidth\":0,\"ticks\":\"\"}}}],\"bar\":[{\"error_x\":{\"color\":\"#2a3f5f\"},\"error_y\":{\"color\":\"#2a3f5f\"},\"marker\":{\"line\":{\"color\":\"#E5ECF6\",\"width\":0.5},\"pattern\":{\"fillmode\":\"overlay\",\"size\":10,\"solidity\":0.2}},\"type\":\"bar\"}],\"scattergeo\":[{\"type\":\"scattergeo\",\"marker\":{\"colorbar\":{\"outlinewidth\":0,\"ticks\":\"\"}}}],\"scatterpolar\":[{\"type\":\"scatterpolar\",\"marker\":{\"colorbar\":{\"outlinewidth\":0,\"ticks\":\"\"}}}],\"histogram\":[{\"marker\":{\"pattern\":{\"fillmode\":\"overlay\",\"size\":10,\"solidity\":0.2}},\"type\":\"histogram\"}],\"scattergl\":[{\"type\":\"scattergl\",\"marker\":{\"colorbar\":{\"outlinewidth\":0,\"ticks\":\"\"}}}],\"scatter3d\":[{\"type\":\"scatter3d\",\"line\":{\"colorbar\":{\"outlinewidth\":0,\"ticks\":\"\"}},\"marker\":{\"colorbar\":{\"outlinewidth\":0,\"ticks\":\"\"}}}],\"scattermapbox\":[{\"type\":\"scattermapbox\",\"marker\":{\"colorbar\":{\"outlinewidth\":0,\"ticks\":\"\"}}}],\"scatterternary\":[{\"type\":\"scatterternary\",\"marker\":{\"colorbar\":{\"outlinewidth\":0,\"ticks\":\"\"}}}],\"scattercarpet\":[{\"type\":\"scattercarpet\",\"marker\":{\"colorbar\":{\"outlinewidth\":0,\"ticks\":\"\"}}}],\"carpet\":[{\"aaxis\":{\"endlinecolor\":\"#2a3f5f\",\"gridcolor\":\"white\",\"linecolor\":\"white\",\"minorgridcolor\":\"white\",\"startlinecolor\":\"#2a3f5f\"},\"baxis\":{\"endlinecolor\":\"#2a3f5f\",\"gridcolor\":\"white\",\"linecolor\":\"white\",\"minorgridcolor\":\"white\",\"startlinecolor\":\"#2a3f5f\"},\"type\":\"carpet\"}],\"table\":[{\"cells\":{\"fill\":{\"color\":\"#EBF0F8\"},\"line\":{\"color\":\"white\"}},\"header\":{\"fill\":{\"color\":\"#C8D4E3\"},\"line\":{\"color\":\"white\"}},\"type\":\"table\"}],\"barpolar\":[{\"marker\":{\"line\":{\"color\":\"#E5ECF6\",\"width\":0.5},\"pattern\":{\"fillmode\":\"overlay\",\"size\":10,\"solidity\":0.2}},\"type\":\"barpolar\"}],\"pie\":[{\"automargin\":true,\"type\":\"pie\"}]},\"layout\":{\"autotypenumbers\":\"strict\",\"colorway\":[\"#636efa\",\"#EF553B\",\"#00cc96\",\"#ab63fa\",\"#FFA15A\",\"#19d3f3\",\"#FF6692\",\"#B6E880\",\"#FF97FF\",\"#FECB52\"],\"font\":{\"color\":\"#2a3f5f\"},\"hovermode\":\"closest\",\"hoverlabel\":{\"align\":\"left\"},\"paper_bgcolor\":\"white\",\"plot_bgcolor\":\"#E5ECF6\",\"polar\":{\"bgcolor\":\"#E5ECF6\",\"angularaxis\":{\"gridcolor\":\"white\",\"linecolor\":\"white\",\"ticks\":\"\"},\"radialaxis\":{\"gridcolor\":\"white\",\"linecolor\":\"white\",\"ticks\":\"\"}},\"ternary\":{\"bgcolor\":\"#E5ECF6\",\"aaxis\":{\"gridcolor\":\"white\",\"linecolor\":\"white\",\"ticks\":\"\"},\"baxis\":{\"gridcolor\":\"white\",\"linecolor\":\"white\",\"ticks\":\"\"},\"caxis\":{\"gridcolor\":\"white\",\"linecolor\":\"white\",\"ticks\":\"\"}},\"coloraxis\":{\"colorbar\":{\"outlinewidth\":0,\"ticks\":\"\"}},\"colorscale\":{\"sequential\":[[0.0,\"#0d0887\"],[0.1111111111111111,\"#46039f\"],[0.2222222222222222,\"#7201a8\"],[0.3333333333333333,\"#9c179e\"],[0.4444444444444444,\"#bd3786\"],[0.5555555555555556,\"#d8576b\"],[0.6666666666666666,\"#ed7953\"],[0.7777777777777778,\"#fb9f3a\"],[0.8888888888888888,\"#fdca26\"],[1.0,\"#f0f921\"]],\"sequentialminus\":[[0.0,\"#0d0887\"],[0.1111111111111111,\"#46039f\"],[0.2222222222222222,\"#7201a8\"],[0.3333333333333333,\"#9c179e\"],[0.4444444444444444,\"#bd3786\"],[0.5555555555555556,\"#d8576b\"],[0.6666666666666666,\"#ed7953\"],[0.7777777777777778,\"#fb9f3a\"],[0.8888888888888888,\"#fdca26\"],[1.0,\"#f0f921\"]],\"diverging\":[[0,\"#8e0152\"],[0.1,\"#c51b7d\"],[0.2,\"#de77ae\"],[0.3,\"#f1b6da\"],[0.4,\"#fde0ef\"],[0.5,\"#f7f7f7\"],[0.6,\"#e6f5d0\"],[0.7,\"#b8e186\"],[0.8,\"#7fbc41\"],[0.9,\"#4d9221\"],[1,\"#276419\"]]},\"xaxis\":{\"gridcolor\":\"white\",\"linecolor\":\"white\",\"ticks\":\"\",\"title\":{\"standoff\":15},\"zerolinecolor\":\"white\",\"automargin\":true,\"zerolinewidth\":2},\"yaxis\":{\"gridcolor\":\"white\",\"linecolor\":\"white\",\"ticks\":\"\",\"title\":{\"standoff\":15},\"zerolinecolor\":\"white\",\"automargin\":true,\"zerolinewidth\":2},\"scene\":{\"xaxis\":{\"backgroundcolor\":\"#E5ECF6\",\"gridcolor\":\"white\",\"linecolor\":\"white\",\"showbackground\":true,\"ticks\":\"\",\"zerolinecolor\":\"white\",\"gridwidth\":2},\"yaxis\":{\"backgroundcolor\":\"#E5ECF6\",\"gridcolor\":\"white\",\"linecolor\":\"white\",\"showbackground\":true,\"ticks\":\"\",\"zerolinecolor\":\"white\",\"gridwidth\":2},\"zaxis\":{\"backgroundcolor\":\"#E5ECF6\",\"gridcolor\":\"white\",\"linecolor\":\"white\",\"showbackground\":true,\"ticks\":\"\",\"zerolinecolor\":\"white\",\"gridwidth\":2}},\"shapedefaults\":{\"line\":{\"color\":\"#2a3f5f\"}},\"annotationdefaults\":{\"arrowcolor\":\"#2a3f5f\",\"arrowhead\":0,\"arrowwidth\":1},\"geo\":{\"bgcolor\":\"white\",\"landcolor\":\"#E5ECF6\",\"subunitcolor\":\"white\",\"showland\":true,\"showlakes\":true,\"lakecolor\":\"white\"},\"title\":{\"x\":0.05},\"mapbox\":{\"style\":\"light\"}}},\"xaxis\":{\"title\":{\"text\":\"Cities Median Income\"},\"gridcolor\":\"white\",\"type\":\"log\",\"gridwidth\":2},\"yaxis\":{\"title\":{\"text\":\"Entry-Level Marketing Starting Salary\"},\"gridcolor\":\"white\",\"gridwidth\":2},\"title\":{\"text\":\"Entry-Level Marketing Starting Salary vs Cities Median Income\"},\"paper_bgcolor\":\"rgb(243, 243, 243)\",\"plot_bgcolor\":\"rgb(243, 243, 243)\"},                        {\"responsive\": true}                    ).then(function(){\n",
       "                            \n",
       "var gd = document.getElementById('a99f9990-4c56-475d-bf93-f676a6537b77');\n",
       "var x = new MutationObserver(function (mutations, observer) {{\n",
       "        var display = window.getComputedStyle(gd).display;\n",
       "        if (!display || display === 'none') {{\n",
       "            console.log([gd, 'removed!']);\n",
       "            Plotly.purge(gd);\n",
       "            observer.disconnect();\n",
       "        }}\n",
       "}});\n",
       "\n",
       "// Listen for the removal of the full notebook cells\n",
       "var notebookContainer = gd.closest('#notebook-container');\n",
       "if (notebookContainer) {{\n",
       "    x.observe(notebookContainer, {childList: true});\n",
       "}}\n",
       "\n",
       "// Listen for the clearing of the current output cell\n",
       "var outputEl = gd.closest('.output');\n",
       "if (outputEl) {{\n",
       "    x.observe(outputEl, {childList: true});\n",
       "}}\n",
       "\n",
       "                        })                };                });            </script>        </div>"
      ]
     },
     "metadata": {},
     "output_type": "display_data"
    }
   ],
   "source": [
    "# Load data, define hover text and bubble size\n",
    "data = pd.read_csv('Interactive Data Final Project.csv')\n",
    "# data = data['Popular U.S. Cities']\n",
    "\n",
    "data['Population'] = [int(x.strip(' ').replace(',', \"\")) for x in data['Cities_Population']]\n",
    "\n",
    "data['Starting Salary'] = [int(x.strip(' ').strip('$').replace(',', \"\")) for x in data['Entry-Level_Marketing_Starting_Salary']]\n",
    "\n",
    "hover_text = []\n",
    "bubble_size = []\n",
    "\n",
    "for index, row in data.iterrows():\n",
    "    \n",
    "    hover_text.append(('Popular U.S. Cities: {city}<br>'+\n",
    "                      'Entry-Level_Marketing_Starting_Salary: {salary}<br>'+\n",
    "                      'Cities_Median_Income: {income}<br>'+\n",
    "                      'Cities_Population: {pop}<br>'\n",
    "                      ).format(city=row['Popular U.S. Cities'],\n",
    "                                            salary=row['Entry-Level_Marketing_Starting_Salary'],\n",
    "                                            income=row['Cities_Median_Income'],\n",
    "                                            pop=row['Cities_Population'],\n",
    "                                            ))\n",
    "    bubble_size.append(math.sqrt(row['Population']))\n",
    "                      \n",
    "data['Population'] = hover_text\n",
    "data['Population'] = bubble_size\n",
    "sizeref = 2.*max(data['Population'])/(100**2)\n",
    "\n",
    "# Dictionary with dataframes for each continent\n",
    "# continent_names = ['Africa', 'Americas', 'Asia', 'Europe', 'Oceania']\n",
    "# continent_data = {data:data.query(\"continent == '%s'\" %data)\n",
    "#                               for data in continent_names}\n",
    "\n",
    "# Create figure\n",
    "fig = go.Figure()\n",
    "\n",
    "fig.add_trace(go.Scatter(\n",
    "        mode='markers',\n",
    "        marker_size=bubble_size,\n",
    "        marker=dict(\n",
    "            color=[35000, 40000, 45000, 50000, 55000],\n",
    "            size=bubble_size,\n",
    "            showscale=True\n",
    "            ),\n",
    "        x=data['Cities_Median_Income'], y=data['Starting Salary'],\n",
    "        text=hover_text,\n",
    "\n",
    "        ))\n",
    "\n",
    "# fig.update_traces(marker=dict(size=12,\n",
    "#                               line=dict(width=2,\n",
    "#                                         color='DarkSlateGrey')),\n",
    "#                   selector=dict(mode='markers'))\n",
    "\n",
    "# for continent_name, data in continent_data.items():\n",
    "#     fig.add_trace(go.Scatter(\n",
    "#         x=data['Cities Median Income'], y=data['Entry-Level Marketing Starting Salary'],\n",
    "#         name=continent_name, text=data['Population'],\n",
    "#         marker_size=data['Population'],\n",
    "#         ))\n",
    "\n",
    "# Tune marker appearance and layout\n",
    "fig.update_traces(mode='markers', marker=dict(sizemode='area',\n",
    "                                              sizeref=sizeref, line_width=2))\n",
    "\n",
    "fig.update_layout(\n",
    "    title='Entry-Level Marketing Starting Salary vs Cities Median Income',\n",
    "    xaxis=dict(\n",
    "        title='Cities Median Income',\n",
    "        gridcolor='white',\n",
    "        type='log',\n",
    "        gridwidth=2,\n",
    "    ),\n",
    "    yaxis=dict(\n",
    "        title='Entry-Level Marketing Starting Salary',\n",
    "        gridcolor='white',\n",
    "        gridwidth=2,\n",
    "    ),\n",
    "    paper_bgcolor='rgb(243, 243, 243)',\n",
    "    plot_bgcolor='rgb(243, 243, 243)',\n",
    ")\n",
    "fig.show()"
   ]
  },
  {
   "cell_type": "code",
   "execution_count": null,
   "id": "969f2e31",
   "metadata": {},
   "outputs": [],
   "source": []
  },
  {
   "cell_type": "code",
   "execution_count": null,
   "id": "3a94e938",
   "metadata": {},
   "outputs": [],
   "source": []
  }
 ],
 "metadata": {
  "kernelspec": {
   "display_name": "Python 3 (ipykernel)",
   "language": "python",
   "name": "python3"
  },
  "language_info": {
   "codemirror_mode": {
    "name": "ipython",
    "version": 3
   },
   "file_extension": ".py",
   "mimetype": "text/x-python",
   "name": "python",
   "nbconvert_exporter": "python",
   "pygments_lexer": "ipython3",
   "version": "3.9.16"
  }
 },
 "nbformat": 4,
 "nbformat_minor": 5
}
