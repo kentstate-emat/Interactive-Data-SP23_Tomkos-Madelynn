{
 "cells": [
  {
   "cell_type": "code",
   "execution_count": 2,
   "id": "2af555db",
   "metadata": {},
   "outputs": [],
   "source": [
    "import plotly.offline as pyo\n",
    "import pandas as pd\n",
    "from matplotlib import pyplot as plt\n",
    "import plotly.express as px\n",
    "import plotly.graph_objects as go\n",
    "import math\n",
    "import plotly.graph_objects as go"
   ]
  },
  {
   "cell_type": "code",
   "execution_count": 9,
   "id": "e44b8a35",
   "metadata": {},
   "outputs": [
    {
     "data": {
      "application/vnd.plotly.v1+json": {
       "config": {
        "plotlyServerURL": "https://plot.ly"
       },
       "data": [
        {
         "marker": {
          "color": [
           0.970849323,
           0.733885753,
           0.658710991,
           0.825787282,
           0.691741842,
           0.653007749,
           0.940453601,
           0.720222858,
           0.524841302,
           0.599698795,
           0.630472984,
           0.651889476,
           0.656491999,
           0.748838534,
           0.687573005,
           0.705468738,
           0.899728039,
           0.805388997,
           0.747793681,
           0.98444058,
           0.845372287,
           0.949550927,
           0.741357025,
           1.334635978,
           0.610861275,
           0.746938006,
           0.633463525,
           0.525659937,
           0.767814022,
           0.644160613,
           0.694098059,
           0.599991742,
           0.487029891,
           0.450082259,
           0.64115118,
           0.821403971,
           0.767166952,
           0.647374046,
           0.734472637,
           0.55693579,
           0.458857523,
           0.778453614,
           0.554700793,
           0.774410333,
           0.926618764,
           0.695652888,
           0.814309701,
           0.728730857,
           0.737632103,
           0.751767443
          ],
          "line": {
           "width": 2
          },
          "showscale": true,
          "size": [
           613.9796413562913,
           622.1334262037365,
           626.7264155913647,
           641.4054879715327,
           652.1778898429477,
           658.6524121264569,
           663.242037268447,
           675.3236261230611,
           676.5145970339443,
           684.9262734046636,
           695.6694617417096,
           698.0687645210893,
           704.5998864603939,
           713.0175313412707,
           713.7751746873802,
           724.5971294450455,
           737.0495234378759,
           737.9092085073881,
           750.0659970962555,
           754.539594719853,
           759.2746538638044,
           792.5446359669593,
           792.839201856215,
           795.2760527011989,
           800.7259206495066,
           804.2325534321525,
           809.1823033161317,
           818.5658189785352,
           823.6595170335859,
           823.9241469941271,
           829.2918665946266,
           843.4826613511389,
           856.6907259915914,
           902.8848210043184,
           937.9280356189381,
           939.1693138087509,
           952.117639790378,
           967.216625167289,
           977.043499543393,
           981.9251498968748,
           991.7101391031555,
           1135.102198042097,
           1175.4194995830212,
           1204.928628591752,
           1255.4883512004403,
           1274.585815078765,
           1512.696268257445,
           1642.119057803057,
           1961.9625378686515,
           2909.899139145548
          ],
          "sizemode": "area",
          "sizeref": 0.5819798278291096
         },
         "mode": "markers",
         "text": [
          "U.S. City: New Orleans, LA<br>Entry-Level Marketing Starting Salary:  $41,997 <br>Cities' Median Income:  $43,258 <br>Cities' Population:  376,971 <br>",
          "U.S. City: Tampa, FL<br>Entry-Level Marketing Starting Salary:  $40,829 <br>Cities' Median Income:  $55,634 <br>Cities' Population:  387,050 <br>",
          "U.S. City: Arlington, TX<br>Entry-Level Marketing Starting Salary:  $41,730 <br>Cities' Median Income:  $63,351 <br>Cities' Population:  392,786 <br>",
          "U.S. City: Tulsa, OK<br>Entry-Level Marketing Starting Salary:  $40,855 <br>Cities' Median Income:  $49,474 <br>Cities' Population:  411,401 <br>",
          "U.S. City: Minneapolis, MN<br>Entry-Level Marketing Starting Salary:  $45,702 <br>Cities' Median Income:  $66,068 <br>Cities' Population:  425,336 <br>",
          "U.S. City: Oakland, CA<br>Entry-Level Marketing Starting Salary:  $52,334 <br>Cities' Median Income:  $80,143 <br>Cities' Population:  433,823 <br>",
          "U.S. City: Miami, FL<br>Entry-Level Marketing Starting Salary:  $41,632 <br>Cities' Median Income:  $44,268 <br>Cities' Population:  439,890 <br>",
          "U.S. City: Long Beach, CA<br>Entry-Level Marketing Starting Salary:  $47,830 <br>Cities' Median Income:  $66,410 <br>Cities' Population:  456,062 <br>",
          "U.S. City: Virginia Beach, VA<br>Entry-Level Marketing Starting Salary:  $41,009 <br>Cities' Median Income:  $78,136 <br>Cities' Population:  457,672 <br>",
          "U.S. City: Raleigh, NC<br>Entry-Level Marketing Starting Salary:  $41,811 <br>Cities' Median Income:  $69,720 <br>Cities' Population:  469,124 <br>",
          "U.S. City: Colorado Springs, CO<br>Entry-Level Marketing Starting Salary:  $42,695 <br>Cities' Median Income:  $67,719 <br>Cities' Population:  483,956 <br>",
          "U.S. City: Omaha, NE<br>Entry-Level Marketing Starting Salary:  $40,556 <br>Cities' Median Income:  $62,213 <br>Cities' Population:  487,300 <br>",
          "U.S. City: Atlanta, GA<br>Entry-Level Marketing Starting Salary:  $42,133 <br>Cities' Median Income:  $64,179 <br>Cities' Population:  496,461 <br>",
          "U.S. City: Kansas City, MO<br>Entry-Level Marketing Starting Salary:  $42,069 <br>Cities' Median Income:  $56,179 <br>Cities' Population:  508,394 <br>",
          "U.S. City: Mesa, AZ<br>Entry-Level Marketing Starting Salary:  $42,382 <br>Cities' Median Income:  $61,640 <br>Cities' Population:  509,475 <br>",
          "U.S. City: Sacramento, CA<br>Entry-Level Marketing Starting Salary:  $46,453 <br>Cities' Median Income:  $65,847 <br>Cities' Population:  525,041 <br>",
          "U.S. City: Tucson, AZ<br>Entry-Level Marketing Starting Salary:  $40,692 <br>Cities' Median Income:  $45,227 <br>Cities' Population:  543,242 <br>",
          "U.S. City: Fresno, California<br>Entry-Level Marketing Starting Salary:  $42,982 <br>Cities' Median Income:  $53,368 <br>Cities' Population:  544,510 <br>",
          "U.S. City: Albuquerque, NM<br>Entry-Level Marketing Starting Salary:  $40,333 <br>Cities' Median Income:  $53,936 <br>Cities' Population:  562,599 <br>",
          "U.S. City: Milwaukee, WI<br>Entry-Level Marketing Starting Salary:  $42,454 <br>Cities' Median Income:  $43,125 <br>Cities' Population:  569,330 <br>",
          "U.S. City: Baltimore, MA<br>Entry-Level Marketing Starting Salary:  $44,098 <br>Cities' Median Income:  $52,164 <br>Cities' Population:  576,498 <br>",
          "U.S. City: Memphis, TN<br>Entry-Level Marketing Starting Salary:  $39,752 <br>Cities' Median Income:  $41,864 <br>Cities' Population:  628,127 <br>",
          "U.S. City: Louisville, KY<br>Entry-Level Marketing Starting Salary:  $40,722 <br>Cities' Median Income:  $54,929 <br>Cities' Population:  628,594 <br>",
          "U.S. City: Detroit, MI<br>Entry-Level Marketing Starting Salary:  $43,373 <br>Cities' Median Income:  $32,498 <br>Cities' Population:  632,464 <br>",
          "U.S. City: Portland, OR<br>Entry-Level Marketing Starting Salary:  $44,690 <br>Cities' Median Income:  $73,159 <br>Cities' Population:  641,162 <br>",
          "U.S. City: Las Vegas, NV<br>Entry-Level Marketing Starting Salary:  $43,604 <br>Cities' Median Income:  $58,377 <br>Cities' Population:  646,790 <br>",
          "U.S. City: Boston, MA<br>Entry-Level Marketing Starting Salary:  $48,332 <br>Cities' Median Income:  $76,298 <br>Cities' Population:  654,776 <br>",
          "U.S. City: Washington, D.C.<br>Entry-Level Marketing Starting Salary:  $47,752 <br>Cities' Median Income:  $90,842 <br>Cities' Population:  670,050 <br>",
          "U.S. City: El Paso, TX<br>Entry-Level Marketing Starting Salary:  $37,520 <br>Cities' Median Income:  $48,866 <br>Cities' Population:  678,415 <br>",
          "U.S. City: Nashville, TN<br>Entry-Level Marketing Starting Salary:  $39,994 <br>Cities' Median Income:  $62,087 <br>Cities' Population:  678,851 <br>",
          "U.S. City: Oklahoma City, OK<br>Entry-Level Marketing Starting Salary:  $39,186 <br>Cities' Median Income:  $56,456 <br>Cities' Population:  687,725 <br>",
          "U.S. City: Denver, CO<br>Entry-Level Marketing Starting Salary:  $43,596 <br>Cities' Median Income:  $72,661 <br>Cities' Population:  711,463 <br>",
          "U.S. City: Seattle, WA<br>Entry-Level Marketing Starting Salary:  $47,332 <br>Cities' Median Income:  $97,185 <br>Cities' Population:  733,919 <br>",
          "U.S. City: San Francisco, CA<br>Entry-Level Marketing Starting Salary:  $53,621 <br>Cities' Median Income:  $119,136 <br>Cities' Population:  815,201 <br>",
          "U.S. City: Charlotte, NC<br>Entry-Level Marketing Starting Salary:  $41,905 <br>Cities' Median Income:  $65,359 <br>Cities' Population:  879,709 <br>",
          "U.S. City: Indianapolis, IN<br>Entry-Level Marketing Starting Salary:  $41,738 <br>Cities' Median Income:  $50,813 <br>Cities' Population:  882,039 <br>",
          "U.S. City: Columbus, OH<br>Entry-Level Marketing Starting Salary:  $42,119 <br>Cities' Median Income:  $54,902 <br>Cities' Population:  906,528 <br>",
          "U.S. City: Fort Worth, TX<br>Entry-Level Marketing Starting Salary:  $41,799 <br>Cities' Median Income:  $64,567 <br>Cities' Population:  935,508 <br>",
          "U.S. City: Jacksonville, FL<br>Entry-Level Marketing Starting Salary:  $40,786 <br>Cities' Median Income:  $55,531 <br>Cities' Population:  954,614 <br>",
          "U.S. City: Austin, TX<br>Entry-Level Marketing Starting Salary:  $42,189 <br>Cities' Median Income:  $75,752 <br>Cities' Population:  964,177 <br>",
          "U.S. City: San Jose, CA<br>Entry-Level Marketing Starting Salary:  $53,835 <br>Cities' Median Income:  $117,324 <br>Cities' Population:  983,489 <br>",
          "U.S. City: Dallas, TX<br>Entry-Level Marketing Starting Salary:  $42,618 <br>Cities' Median Income:  $54,747 <br>Cities' Population:  1,288,457 <br>",
          "U.S. City: San Diego, CA<br>Entry-Level Marketing Starting Salary:  $46,292 <br>Cities' Median Income:  $83,454 <br>Cities' Population:  1,381,611 <br>",
          "U.S. City: San Antonio, TX<br>Entry-Level Marketing Starting Salary:  $41,369 <br>Cities' Median Income:  $53,420 <br>Cities' Population:  1,451,853 <br>",
          "U.S. City: Philadelphia, PA<br>Entry-Level Marketing Starting Salary:  $45,522 <br>Cities' Median Income:  $49,127 <br>Cities' Population:  1,576,251 <br>",
          "U.S. City: Phoenix, AZ<br>Entry-Level Marketing Starting Salary:  $42,375 <br>Cities' Median Income:  $60,914 <br>Cities' Population:  1,624,569 <br>",
          "U.S. City: Houston, TX<br>Entry-Level Marketing Starting Salary:  $43,647 <br>Cities' Median Income:  $53,600 <br>Cities' Population:  2,288,250 <br>",
          "U.S. City: Chicago, IL<br>Entry-Level Marketing Starting Salary:  $45,252 <br>Cities' Median Income:  $62,097 <br>Cities' Population:  2,696,555 <br>",
          "U.S. City: Los Angeles, CA<br>Entry-Level Marketing Starting Salary:  $48,160 <br>Cities' Median Income:  $65,290 <br>Cities' Population:  3,849,297 <br>",
          "U.S. City: New York City, NY<br>Entry-Level Marketing Starting Salary:  $50,403 <br>Cities' Median Income:  $67,046 <br>Cities' Population:  8,467,513 <br>"
         ],
         "type": "scatter",
         "x": [
          " $43,258 ",
          " $55,634 ",
          " $63,351 ",
          " $49,474 ",
          " $66,068 ",
          " $80,143 ",
          " $44,268 ",
          " $66,410 ",
          " $78,136 ",
          " $69,720 ",
          " $67,719 ",
          " $62,213 ",
          " $64,179 ",
          " $56,179 ",
          " $61,640 ",
          " $65,847 ",
          " $45,227 ",
          " $53,368 ",
          " $53,936 ",
          " $43,125 ",
          " $52,164 ",
          " $41,864 ",
          " $54,929 ",
          " $32,498 ",
          " $73,159 ",
          " $58,377 ",
          " $76,298 ",
          " $90,842 ",
          " $48,866 ",
          " $62,087 ",
          " $56,456 ",
          " $72,661 ",
          " $97,185 ",
          " $119,136 ",
          " $65,359 ",
          " $50,813 ",
          " $54,902 ",
          " $64,567 ",
          " $55,531 ",
          " $75,752 ",
          " $117,324 ",
          " $54,747 ",
          " $83,454 ",
          " $53,420 ",
          " $49,127 ",
          " $60,914 ",
          " $53,600 ",
          " $62,097 ",
          " $65,290 ",
          " $67,046 "
         ],
         "y": [
          41997,
          40829,
          41730,
          40855,
          45702,
          52334,
          41632,
          47830,
          41009,
          41811,
          42695,
          40556,
          42133,
          42069,
          42382,
          46453,
          40692,
          42982,
          40333,
          42454,
          44098,
          39752,
          40722,
          43373,
          44690,
          43604,
          48332,
          47752,
          37520,
          39994,
          39186,
          43596,
          47332,
          53621,
          41905,
          41738,
          42119,
          41799,
          40786,
          42189,
          53835,
          42618,
          46292,
          41369,
          45522,
          42375,
          43647,
          45252,
          48160,
          50403
         ]
        }
       ],
       "layout": {
        "paper_bgcolor": "rgb(243, 243, 243)",
        "plot_bgcolor": "rgb(243, 243, 243)",
        "template": {
         "data": {
          "bar": [
           {
            "error_x": {
             "color": "#2a3f5f"
            },
            "error_y": {
             "color": "#2a3f5f"
            },
            "marker": {
             "line": {
              "color": "#E5ECF6",
              "width": 0.5
             },
             "pattern": {
              "fillmode": "overlay",
              "size": 10,
              "solidity": 0.2
             }
            },
            "type": "bar"
           }
          ],
          "barpolar": [
           {
            "marker": {
             "line": {
              "color": "#E5ECF6",
              "width": 0.5
             },
             "pattern": {
              "fillmode": "overlay",
              "size": 10,
              "solidity": 0.2
             }
            },
            "type": "barpolar"
           }
          ],
          "carpet": [
           {
            "aaxis": {
             "endlinecolor": "#2a3f5f",
             "gridcolor": "white",
             "linecolor": "white",
             "minorgridcolor": "white",
             "startlinecolor": "#2a3f5f"
            },
            "baxis": {
             "endlinecolor": "#2a3f5f",
             "gridcolor": "white",
             "linecolor": "white",
             "minorgridcolor": "white",
             "startlinecolor": "#2a3f5f"
            },
            "type": "carpet"
           }
          ],
          "choropleth": [
           {
            "colorbar": {
             "outlinewidth": 0,
             "ticks": ""
            },
            "type": "choropleth"
           }
          ],
          "contour": [
           {
            "colorbar": {
             "outlinewidth": 0,
             "ticks": ""
            },
            "colorscale": [
             [
              0,
              "#0d0887"
             ],
             [
              0.1111111111111111,
              "#46039f"
             ],
             [
              0.2222222222222222,
              "#7201a8"
             ],
             [
              0.3333333333333333,
              "#9c179e"
             ],
             [
              0.4444444444444444,
              "#bd3786"
             ],
             [
              0.5555555555555556,
              "#d8576b"
             ],
             [
              0.6666666666666666,
              "#ed7953"
             ],
             [
              0.7777777777777778,
              "#fb9f3a"
             ],
             [
              0.8888888888888888,
              "#fdca26"
             ],
             [
              1,
              "#f0f921"
             ]
            ],
            "type": "contour"
           }
          ],
          "contourcarpet": [
           {
            "colorbar": {
             "outlinewidth": 0,
             "ticks": ""
            },
            "type": "contourcarpet"
           }
          ],
          "heatmap": [
           {
            "colorbar": {
             "outlinewidth": 0,
             "ticks": ""
            },
            "colorscale": [
             [
              0,
              "#0d0887"
             ],
             [
              0.1111111111111111,
              "#46039f"
             ],
             [
              0.2222222222222222,
              "#7201a8"
             ],
             [
              0.3333333333333333,
              "#9c179e"
             ],
             [
              0.4444444444444444,
              "#bd3786"
             ],
             [
              0.5555555555555556,
              "#d8576b"
             ],
             [
              0.6666666666666666,
              "#ed7953"
             ],
             [
              0.7777777777777778,
              "#fb9f3a"
             ],
             [
              0.8888888888888888,
              "#fdca26"
             ],
             [
              1,
              "#f0f921"
             ]
            ],
            "type": "heatmap"
           }
          ],
          "heatmapgl": [
           {
            "colorbar": {
             "outlinewidth": 0,
             "ticks": ""
            },
            "colorscale": [
             [
              0,
              "#0d0887"
             ],
             [
              0.1111111111111111,
              "#46039f"
             ],
             [
              0.2222222222222222,
              "#7201a8"
             ],
             [
              0.3333333333333333,
              "#9c179e"
             ],
             [
              0.4444444444444444,
              "#bd3786"
             ],
             [
              0.5555555555555556,
              "#d8576b"
             ],
             [
              0.6666666666666666,
              "#ed7953"
             ],
             [
              0.7777777777777778,
              "#fb9f3a"
             ],
             [
              0.8888888888888888,
              "#fdca26"
             ],
             [
              1,
              "#f0f921"
             ]
            ],
            "type": "heatmapgl"
           }
          ],
          "histogram": [
           {
            "marker": {
             "pattern": {
              "fillmode": "overlay",
              "size": 10,
              "solidity": 0.2
             }
            },
            "type": "histogram"
           }
          ],
          "histogram2d": [
           {
            "colorbar": {
             "outlinewidth": 0,
             "ticks": ""
            },
            "colorscale": [
             [
              0,
              "#0d0887"
             ],
             [
              0.1111111111111111,
              "#46039f"
             ],
             [
              0.2222222222222222,
              "#7201a8"
             ],
             [
              0.3333333333333333,
              "#9c179e"
             ],
             [
              0.4444444444444444,
              "#bd3786"
             ],
             [
              0.5555555555555556,
              "#d8576b"
             ],
             [
              0.6666666666666666,
              "#ed7953"
             ],
             [
              0.7777777777777778,
              "#fb9f3a"
             ],
             [
              0.8888888888888888,
              "#fdca26"
             ],
             [
              1,
              "#f0f921"
             ]
            ],
            "type": "histogram2d"
           }
          ],
          "histogram2dcontour": [
           {
            "colorbar": {
             "outlinewidth": 0,
             "ticks": ""
            },
            "colorscale": [
             [
              0,
              "#0d0887"
             ],
             [
              0.1111111111111111,
              "#46039f"
             ],
             [
              0.2222222222222222,
              "#7201a8"
             ],
             [
              0.3333333333333333,
              "#9c179e"
             ],
             [
              0.4444444444444444,
              "#bd3786"
             ],
             [
              0.5555555555555556,
              "#d8576b"
             ],
             [
              0.6666666666666666,
              "#ed7953"
             ],
             [
              0.7777777777777778,
              "#fb9f3a"
             ],
             [
              0.8888888888888888,
              "#fdca26"
             ],
             [
              1,
              "#f0f921"
             ]
            ],
            "type": "histogram2dcontour"
           }
          ],
          "mesh3d": [
           {
            "colorbar": {
             "outlinewidth": 0,
             "ticks": ""
            },
            "type": "mesh3d"
           }
          ],
          "parcoords": [
           {
            "line": {
             "colorbar": {
              "outlinewidth": 0,
              "ticks": ""
             }
            },
            "type": "parcoords"
           }
          ],
          "pie": [
           {
            "automargin": true,
            "type": "pie"
           }
          ],
          "scatter": [
           {
            "fillpattern": {
             "fillmode": "overlay",
             "size": 10,
             "solidity": 0.2
            },
            "type": "scatter"
           }
          ],
          "scatter3d": [
           {
            "line": {
             "colorbar": {
              "outlinewidth": 0,
              "ticks": ""
             }
            },
            "marker": {
             "colorbar": {
              "outlinewidth": 0,
              "ticks": ""
             }
            },
            "type": "scatter3d"
           }
          ],
          "scattercarpet": [
           {
            "marker": {
             "colorbar": {
              "outlinewidth": 0,
              "ticks": ""
             }
            },
            "type": "scattercarpet"
           }
          ],
          "scattergeo": [
           {
            "marker": {
             "colorbar": {
              "outlinewidth": 0,
              "ticks": ""
             }
            },
            "type": "scattergeo"
           }
          ],
          "scattergl": [
           {
            "marker": {
             "colorbar": {
              "outlinewidth": 0,
              "ticks": ""
             }
            },
            "type": "scattergl"
           }
          ],
          "scattermapbox": [
           {
            "marker": {
             "colorbar": {
              "outlinewidth": 0,
              "ticks": ""
             }
            },
            "type": "scattermapbox"
           }
          ],
          "scatterpolar": [
           {
            "marker": {
             "colorbar": {
              "outlinewidth": 0,
              "ticks": ""
             }
            },
            "type": "scatterpolar"
           }
          ],
          "scatterpolargl": [
           {
            "marker": {
             "colorbar": {
              "outlinewidth": 0,
              "ticks": ""
             }
            },
            "type": "scatterpolargl"
           }
          ],
          "scatterternary": [
           {
            "marker": {
             "colorbar": {
              "outlinewidth": 0,
              "ticks": ""
             }
            },
            "type": "scatterternary"
           }
          ],
          "surface": [
           {
            "colorbar": {
             "outlinewidth": 0,
             "ticks": ""
            },
            "colorscale": [
             [
              0,
              "#0d0887"
             ],
             [
              0.1111111111111111,
              "#46039f"
             ],
             [
              0.2222222222222222,
              "#7201a8"
             ],
             [
              0.3333333333333333,
              "#9c179e"
             ],
             [
              0.4444444444444444,
              "#bd3786"
             ],
             [
              0.5555555555555556,
              "#d8576b"
             ],
             [
              0.6666666666666666,
              "#ed7953"
             ],
             [
              0.7777777777777778,
              "#fb9f3a"
             ],
             [
              0.8888888888888888,
              "#fdca26"
             ],
             [
              1,
              "#f0f921"
             ]
            ],
            "type": "surface"
           }
          ],
          "table": [
           {
            "cells": {
             "fill": {
              "color": "#EBF0F8"
             },
             "line": {
              "color": "white"
             }
            },
            "header": {
             "fill": {
              "color": "#C8D4E3"
             },
             "line": {
              "color": "white"
             }
            },
            "type": "table"
           }
          ]
         },
         "layout": {
          "annotationdefaults": {
           "arrowcolor": "#2a3f5f",
           "arrowhead": 0,
           "arrowwidth": 1
          },
          "autotypenumbers": "strict",
          "coloraxis": {
           "colorbar": {
            "outlinewidth": 0,
            "ticks": ""
           }
          },
          "colorscale": {
           "diverging": [
            [
             0,
             "#8e0152"
            ],
            [
             0.1,
             "#c51b7d"
            ],
            [
             0.2,
             "#de77ae"
            ],
            [
             0.3,
             "#f1b6da"
            ],
            [
             0.4,
             "#fde0ef"
            ],
            [
             0.5,
             "#f7f7f7"
            ],
            [
             0.6,
             "#e6f5d0"
            ],
            [
             0.7,
             "#b8e186"
            ],
            [
             0.8,
             "#7fbc41"
            ],
            [
             0.9,
             "#4d9221"
            ],
            [
             1,
             "#276419"
            ]
           ],
           "sequential": [
            [
             0,
             "#0d0887"
            ],
            [
             0.1111111111111111,
             "#46039f"
            ],
            [
             0.2222222222222222,
             "#7201a8"
            ],
            [
             0.3333333333333333,
             "#9c179e"
            ],
            [
             0.4444444444444444,
             "#bd3786"
            ],
            [
             0.5555555555555556,
             "#d8576b"
            ],
            [
             0.6666666666666666,
             "#ed7953"
            ],
            [
             0.7777777777777778,
             "#fb9f3a"
            ],
            [
             0.8888888888888888,
             "#fdca26"
            ],
            [
             1,
             "#f0f921"
            ]
           ],
           "sequentialminus": [
            [
             0,
             "#0d0887"
            ],
            [
             0.1111111111111111,
             "#46039f"
            ],
            [
             0.2222222222222222,
             "#7201a8"
            ],
            [
             0.3333333333333333,
             "#9c179e"
            ],
            [
             0.4444444444444444,
             "#bd3786"
            ],
            [
             0.5555555555555556,
             "#d8576b"
            ],
            [
             0.6666666666666666,
             "#ed7953"
            ],
            [
             0.7777777777777778,
             "#fb9f3a"
            ],
            [
             0.8888888888888888,
             "#fdca26"
            ],
            [
             1,
             "#f0f921"
            ]
           ]
          },
          "colorway": [
           "#636efa",
           "#EF553B",
           "#00cc96",
           "#ab63fa",
           "#FFA15A",
           "#19d3f3",
           "#FF6692",
           "#B6E880",
           "#FF97FF",
           "#FECB52"
          ],
          "font": {
           "color": "#2a3f5f"
          },
          "geo": {
           "bgcolor": "white",
           "lakecolor": "white",
           "landcolor": "#E5ECF6",
           "showlakes": true,
           "showland": true,
           "subunitcolor": "white"
          },
          "hoverlabel": {
           "align": "left"
          },
          "hovermode": "closest",
          "mapbox": {
           "style": "light"
          },
          "paper_bgcolor": "white",
          "plot_bgcolor": "#E5ECF6",
          "polar": {
           "angularaxis": {
            "gridcolor": "white",
            "linecolor": "white",
            "ticks": ""
           },
           "bgcolor": "#E5ECF6",
           "radialaxis": {
            "gridcolor": "white",
            "linecolor": "white",
            "ticks": ""
           }
          },
          "scene": {
           "xaxis": {
            "backgroundcolor": "#E5ECF6",
            "gridcolor": "white",
            "gridwidth": 2,
            "linecolor": "white",
            "showbackground": true,
            "ticks": "",
            "zerolinecolor": "white"
           },
           "yaxis": {
            "backgroundcolor": "#E5ECF6",
            "gridcolor": "white",
            "gridwidth": 2,
            "linecolor": "white",
            "showbackground": true,
            "ticks": "",
            "zerolinecolor": "white"
           },
           "zaxis": {
            "backgroundcolor": "#E5ECF6",
            "gridcolor": "white",
            "gridwidth": 2,
            "linecolor": "white",
            "showbackground": true,
            "ticks": "",
            "zerolinecolor": "white"
           }
          },
          "shapedefaults": {
           "line": {
            "color": "#2a3f5f"
           }
          },
          "ternary": {
           "aaxis": {
            "gridcolor": "white",
            "linecolor": "white",
            "ticks": ""
           },
           "baxis": {
            "gridcolor": "white",
            "linecolor": "white",
            "ticks": ""
           },
           "bgcolor": "#E5ECF6",
           "caxis": {
            "gridcolor": "white",
            "linecolor": "white",
            "ticks": ""
           }
          },
          "title": {
           "x": 0.05
          },
          "xaxis": {
           "automargin": true,
           "gridcolor": "white",
           "linecolor": "white",
           "ticks": "",
           "title": {
            "standoff": 15
           },
           "zerolinecolor": "white",
           "zerolinewidth": 2
          },
          "yaxis": {
           "automargin": true,
           "gridcolor": "white",
           "linecolor": "white",
           "ticks": "",
           "title": {
            "standoff": 15
           },
           "zerolinecolor": "white",
           "zerolinewidth": 2
          }
         }
        },
        "title": {
         "text": "What is the best city to live in for entry level marketing professionals?"
        },
        "xaxis": {
         "gridcolor": "white",
         "gridwidth": 2,
         "title": {
          "text": "Cities' Median Income"
         },
         "type": "log"
        },
        "yaxis": {
         "gridcolor": "white",
         "gridwidth": 2,
         "title": {
          "text": "Entry-Level Marketing Starting Salary"
         }
        }
       }
      },
      "text/html": [
       "<div>                            <div id=\"ebb6ca36-2ba6-4c0a-bd20-9fa603e6dfd0\" class=\"plotly-graph-div\" style=\"height:525px; width:100%;\"></div>            <script type=\"text/javascript\">                require([\"plotly\"], function(Plotly) {                    window.PLOTLYENV=window.PLOTLYENV || {};                                    if (document.getElementById(\"ebb6ca36-2ba6-4c0a-bd20-9fa603e6dfd0\")) {                    Plotly.newPlot(                        \"ebb6ca36-2ba6-4c0a-bd20-9fa603e6dfd0\",                        [{\"marker\":{\"color\":[0.970849323,0.733885753,0.658710991,0.825787282,0.691741842,0.653007749,0.940453601,0.720222858,0.524841302,0.599698795,0.630472984,0.651889476,0.656491999,0.748838534,0.687573005,0.705468738,0.899728039,0.805388997,0.747793681,0.98444058,0.845372287,0.949550927,0.741357025,1.334635978,0.610861275,0.746938006,0.633463525,0.525659937,0.767814022,0.644160613,0.694098059,0.599991742,0.487029891,0.450082259,0.64115118,0.821403971,0.767166952,0.647374046,0.734472637,0.55693579,0.458857523,0.778453614,0.554700793,0.774410333,0.926618764,0.695652888,0.814309701,0.728730857,0.737632103,0.751767443],\"showscale\":true,\"size\":[613.9796413562913,622.1334262037365,626.7264155913647,641.4054879715327,652.1778898429477,658.6524121264569,663.242037268447,675.3236261230611,676.5145970339443,684.9262734046636,695.6694617417096,698.0687645210893,704.5998864603939,713.0175313412707,713.7751746873802,724.5971294450455,737.0495234378759,737.9092085073881,750.0659970962555,754.539594719853,759.2746538638044,792.5446359669593,792.839201856215,795.2760527011989,800.7259206495066,804.2325534321525,809.1823033161317,818.5658189785352,823.6595170335859,823.9241469941271,829.2918665946266,843.4826613511389,856.6907259915914,902.8848210043184,937.9280356189381,939.1693138087509,952.117639790378,967.216625167289,977.043499543393,981.9251498968748,991.7101391031555,1135.102198042097,1175.4194995830212,1204.928628591752,1255.4883512004403,1274.585815078765,1512.696268257445,1642.119057803057,1961.9625378686515,2909.899139145548],\"line\":{\"width\":2},\"sizemode\":\"area\",\"sizeref\":0.5819798278291096},\"mode\":\"markers\",\"text\":[\"U.S. City: New Orleans, LA<br>Entry-Level Marketing Starting Salary:  $41,997 <br>Cities' Median Income:  $43,258 <br>Cities' Population:  376,971 <br>\",\"U.S. City: Tampa, FL<br>Entry-Level Marketing Starting Salary:  $40,829 <br>Cities' Median Income:  $55,634 <br>Cities' Population:  387,050 <br>\",\"U.S. City: Arlington, TX<br>Entry-Level Marketing Starting Salary:  $41,730 <br>Cities' Median Income:  $63,351 <br>Cities' Population:  392,786 <br>\",\"U.S. City: Tulsa, OK<br>Entry-Level Marketing Starting Salary:  $40,855 <br>Cities' Median Income:  $49,474 <br>Cities' Population:  411,401 <br>\",\"U.S. City: Minneapolis, MN<br>Entry-Level Marketing Starting Salary:  $45,702 <br>Cities' Median Income:  $66,068 <br>Cities' Population:  425,336 <br>\",\"U.S. City: Oakland, CA<br>Entry-Level Marketing Starting Salary:  $52,334 <br>Cities' Median Income:  $80,143 <br>Cities' Population:  433,823 <br>\",\"U.S. City: Miami, FL<br>Entry-Level Marketing Starting Salary:  $41,632 <br>Cities' Median Income:  $44,268 <br>Cities' Population:  439,890 <br>\",\"U.S. City: Long Beach, CA<br>Entry-Level Marketing Starting Salary:  $47,830 <br>Cities' Median Income:  $66,410 <br>Cities' Population:  456,062 <br>\",\"U.S. City: Virginia Beach, VA<br>Entry-Level Marketing Starting Salary:  $41,009 <br>Cities' Median Income:  $78,136 <br>Cities' Population:  457,672 <br>\",\"U.S. City: Raleigh, NC<br>Entry-Level Marketing Starting Salary:  $41,811 <br>Cities' Median Income:  $69,720 <br>Cities' Population:  469,124 <br>\",\"U.S. City: Colorado Springs, CO<br>Entry-Level Marketing Starting Salary:  $42,695 <br>Cities' Median Income:  $67,719 <br>Cities' Population:  483,956 <br>\",\"U.S. City: Omaha, NE<br>Entry-Level Marketing Starting Salary:  $40,556 <br>Cities' Median Income:  $62,213 <br>Cities' Population:  487,300 <br>\",\"U.S. City: Atlanta, GA<br>Entry-Level Marketing Starting Salary:  $42,133 <br>Cities' Median Income:  $64,179 <br>Cities' Population:  496,461 <br>\",\"U.S. City: Kansas City, MO<br>Entry-Level Marketing Starting Salary:  $42,069 <br>Cities' Median Income:  $56,179 <br>Cities' Population:  508,394 <br>\",\"U.S. City: Mesa, AZ<br>Entry-Level Marketing Starting Salary:  $42,382 <br>Cities' Median Income:  $61,640 <br>Cities' Population:  509,475 <br>\",\"U.S. City: Sacramento, CA<br>Entry-Level Marketing Starting Salary:  $46,453 <br>Cities' Median Income:  $65,847 <br>Cities' Population:  525,041 <br>\",\"U.S. City: Tucson, AZ<br>Entry-Level Marketing Starting Salary:  $40,692 <br>Cities' Median Income:  $45,227 <br>Cities' Population:  543,242 <br>\",\"U.S. City: Fresno, California<br>Entry-Level Marketing Starting Salary:  $42,982 <br>Cities' Median Income:  $53,368 <br>Cities' Population:  544,510 <br>\",\"U.S. City: Albuquerque, NM<br>Entry-Level Marketing Starting Salary:  $40,333 <br>Cities' Median Income:  $53,936 <br>Cities' Population:  562,599 <br>\",\"U.S. City: Milwaukee, WI<br>Entry-Level Marketing Starting Salary:  $42,454 <br>Cities' Median Income:  $43,125 <br>Cities' Population:  569,330 <br>\",\"U.S. City: Baltimore, MA<br>Entry-Level Marketing Starting Salary:  $44,098 <br>Cities' Median Income:  $52,164 <br>Cities' Population:  576,498 <br>\",\"U.S. City: Memphis, TN<br>Entry-Level Marketing Starting Salary:  $39,752 <br>Cities' Median Income:  $41,864 <br>Cities' Population:  628,127 <br>\",\"U.S. City: Louisville, KY<br>Entry-Level Marketing Starting Salary:  $40,722 <br>Cities' Median Income:  $54,929 <br>Cities' Population:  628,594 <br>\",\"U.S. City: Detroit, MI<br>Entry-Level Marketing Starting Salary:  $43,373 <br>Cities' Median Income:  $32,498 <br>Cities' Population:  632,464 <br>\",\"U.S. City: Portland, OR<br>Entry-Level Marketing Starting Salary:  $44,690 <br>Cities' Median Income:  $73,159 <br>Cities' Population:  641,162 <br>\",\"U.S. City: Las Vegas, NV<br>Entry-Level Marketing Starting Salary:  $43,604 <br>Cities' Median Income:  $58,377 <br>Cities' Population:  646,790 <br>\",\"U.S. City: Boston, MA<br>Entry-Level Marketing Starting Salary:  $48,332 <br>Cities' Median Income:  $76,298 <br>Cities' Population:  654,776 <br>\",\"U.S. City: Washington, D.C.<br>Entry-Level Marketing Starting Salary:  $47,752 <br>Cities' Median Income:  $90,842 <br>Cities' Population:  670,050 <br>\",\"U.S. City: El Paso, TX<br>Entry-Level Marketing Starting Salary:  $37,520 <br>Cities' Median Income:  $48,866 <br>Cities' Population:  678,415 <br>\",\"U.S. City: Nashville, TN<br>Entry-Level Marketing Starting Salary:  $39,994 <br>Cities' Median Income:  $62,087 <br>Cities' Population:  678,851 <br>\",\"U.S. City: Oklahoma City, OK<br>Entry-Level Marketing Starting Salary:  $39,186 <br>Cities' Median Income:  $56,456 <br>Cities' Population:  687,725 <br>\",\"U.S. City: Denver, CO<br>Entry-Level Marketing Starting Salary:  $43,596 <br>Cities' Median Income:  $72,661 <br>Cities' Population:  711,463 <br>\",\"U.S. City: Seattle, WA<br>Entry-Level Marketing Starting Salary:  $47,332 <br>Cities' Median Income:  $97,185 <br>Cities' Population:  733,919 <br>\",\"U.S. City: San Francisco, CA<br>Entry-Level Marketing Starting Salary:  $53,621 <br>Cities' Median Income:  $119,136 <br>Cities' Population:  815,201 <br>\",\"U.S. City: Charlotte, NC<br>Entry-Level Marketing Starting Salary:  $41,905 <br>Cities' Median Income:  $65,359 <br>Cities' Population:  879,709 <br>\",\"U.S. City: Indianapolis, IN<br>Entry-Level Marketing Starting Salary:  $41,738 <br>Cities' Median Income:  $50,813 <br>Cities' Population:  882,039 <br>\",\"U.S. City: Columbus, OH<br>Entry-Level Marketing Starting Salary:  $42,119 <br>Cities' Median Income:  $54,902 <br>Cities' Population:  906,528 <br>\",\"U.S. City: Fort Worth, TX<br>Entry-Level Marketing Starting Salary:  $41,799 <br>Cities' Median Income:  $64,567 <br>Cities' Population:  935,508 <br>\",\"U.S. City: Jacksonville, FL<br>Entry-Level Marketing Starting Salary:  $40,786 <br>Cities' Median Income:  $55,531 <br>Cities' Population:  954,614 <br>\",\"U.S. City: Austin, TX<br>Entry-Level Marketing Starting Salary:  $42,189 <br>Cities' Median Income:  $75,752 <br>Cities' Population:  964,177 <br>\",\"U.S. City: San Jose, CA<br>Entry-Level Marketing Starting Salary:  $53,835 <br>Cities' Median Income:  $117,324 <br>Cities' Population:  983,489 <br>\",\"U.S. City: Dallas, TX<br>Entry-Level Marketing Starting Salary:  $42,618 <br>Cities' Median Income:  $54,747 <br>Cities' Population:  1,288,457 <br>\",\"U.S. City: San Diego, CA<br>Entry-Level Marketing Starting Salary:  $46,292 <br>Cities' Median Income:  $83,454 <br>Cities' Population:  1,381,611 <br>\",\"U.S. City: San Antonio, TX<br>Entry-Level Marketing Starting Salary:  $41,369 <br>Cities' Median Income:  $53,420 <br>Cities' Population:  1,451,853 <br>\",\"U.S. City: Philadelphia, PA<br>Entry-Level Marketing Starting Salary:  $45,522 <br>Cities' Median Income:  $49,127 <br>Cities' Population:  1,576,251 <br>\",\"U.S. City: Phoenix, AZ<br>Entry-Level Marketing Starting Salary:  $42,375 <br>Cities' Median Income:  $60,914 <br>Cities' Population:  1,624,569 <br>\",\"U.S. City: Houston, TX<br>Entry-Level Marketing Starting Salary:  $43,647 <br>Cities' Median Income:  $53,600 <br>Cities' Population:  2,288,250 <br>\",\"U.S. City: Chicago, IL<br>Entry-Level Marketing Starting Salary:  $45,252 <br>Cities' Median Income:  $62,097 <br>Cities' Population:  2,696,555 <br>\",\"U.S. City: Los Angeles, CA<br>Entry-Level Marketing Starting Salary:  $48,160 <br>Cities' Median Income:  $65,290 <br>Cities' Population:  3,849,297 <br>\",\"U.S. City: New York City, NY<br>Entry-Level Marketing Starting Salary:  $50,403 <br>Cities' Median Income:  $67,046 <br>Cities' Population:  8,467,513 <br>\"],\"x\":[\" $43,258 \",\" $55,634 \",\" $63,351 \",\" $49,474 \",\" $66,068 \",\" $80,143 \",\" $44,268 \",\" $66,410 \",\" $78,136 \",\" $69,720 \",\" $67,719 \",\" $62,213 \",\" $64,179 \",\" $56,179 \",\" $61,640 \",\" $65,847 \",\" $45,227 \",\" $53,368 \",\" $53,936 \",\" $43,125 \",\" $52,164 \",\" $41,864 \",\" $54,929 \",\" $32,498 \",\" $73,159 \",\" $58,377 \",\" $76,298 \",\" $90,842 \",\" $48,866 \",\" $62,087 \",\" $56,456 \",\" $72,661 \",\" $97,185 \",\" $119,136 \",\" $65,359 \",\" $50,813 \",\" $54,902 \",\" $64,567 \",\" $55,531 \",\" $75,752 \",\" $117,324 \",\" $54,747 \",\" $83,454 \",\" $53,420 \",\" $49,127 \",\" $60,914 \",\" $53,600 \",\" $62,097 \",\" $65,290 \",\" $67,046 \"],\"y\":[41997,40829,41730,40855,45702,52334,41632,47830,41009,41811,42695,40556,42133,42069,42382,46453,40692,42982,40333,42454,44098,39752,40722,43373,44690,43604,48332,47752,37520,39994,39186,43596,47332,53621,41905,41738,42119,41799,40786,42189,53835,42618,46292,41369,45522,42375,43647,45252,48160,50403],\"type\":\"scatter\"}],                        {\"template\":{\"data\":{\"histogram2dcontour\":[{\"type\":\"histogram2dcontour\",\"colorbar\":{\"outlinewidth\":0,\"ticks\":\"\"},\"colorscale\":[[0.0,\"#0d0887\"],[0.1111111111111111,\"#46039f\"],[0.2222222222222222,\"#7201a8\"],[0.3333333333333333,\"#9c179e\"],[0.4444444444444444,\"#bd3786\"],[0.5555555555555556,\"#d8576b\"],[0.6666666666666666,\"#ed7953\"],[0.7777777777777778,\"#fb9f3a\"],[0.8888888888888888,\"#fdca26\"],[1.0,\"#f0f921\"]]}],\"choropleth\":[{\"type\":\"choropleth\",\"colorbar\":{\"outlinewidth\":0,\"ticks\":\"\"}}],\"histogram2d\":[{\"type\":\"histogram2d\",\"colorbar\":{\"outlinewidth\":0,\"ticks\":\"\"},\"colorscale\":[[0.0,\"#0d0887\"],[0.1111111111111111,\"#46039f\"],[0.2222222222222222,\"#7201a8\"],[0.3333333333333333,\"#9c179e\"],[0.4444444444444444,\"#bd3786\"],[0.5555555555555556,\"#d8576b\"],[0.6666666666666666,\"#ed7953\"],[0.7777777777777778,\"#fb9f3a\"],[0.8888888888888888,\"#fdca26\"],[1.0,\"#f0f921\"]]}],\"heatmap\":[{\"type\":\"heatmap\",\"colorbar\":{\"outlinewidth\":0,\"ticks\":\"\"},\"colorscale\":[[0.0,\"#0d0887\"],[0.1111111111111111,\"#46039f\"],[0.2222222222222222,\"#7201a8\"],[0.3333333333333333,\"#9c179e\"],[0.4444444444444444,\"#bd3786\"],[0.5555555555555556,\"#d8576b\"],[0.6666666666666666,\"#ed7953\"],[0.7777777777777778,\"#fb9f3a\"],[0.8888888888888888,\"#fdca26\"],[1.0,\"#f0f921\"]]}],\"heatmapgl\":[{\"type\":\"heatmapgl\",\"colorbar\":{\"outlinewidth\":0,\"ticks\":\"\"},\"colorscale\":[[0.0,\"#0d0887\"],[0.1111111111111111,\"#46039f\"],[0.2222222222222222,\"#7201a8\"],[0.3333333333333333,\"#9c179e\"],[0.4444444444444444,\"#bd3786\"],[0.5555555555555556,\"#d8576b\"],[0.6666666666666666,\"#ed7953\"],[0.7777777777777778,\"#fb9f3a\"],[0.8888888888888888,\"#fdca26\"],[1.0,\"#f0f921\"]]}],\"contourcarpet\":[{\"type\":\"contourcarpet\",\"colorbar\":{\"outlinewidth\":0,\"ticks\":\"\"}}],\"contour\":[{\"type\":\"contour\",\"colorbar\":{\"outlinewidth\":0,\"ticks\":\"\"},\"colorscale\":[[0.0,\"#0d0887\"],[0.1111111111111111,\"#46039f\"],[0.2222222222222222,\"#7201a8\"],[0.3333333333333333,\"#9c179e\"],[0.4444444444444444,\"#bd3786\"],[0.5555555555555556,\"#d8576b\"],[0.6666666666666666,\"#ed7953\"],[0.7777777777777778,\"#fb9f3a\"],[0.8888888888888888,\"#fdca26\"],[1.0,\"#f0f921\"]]}],\"surface\":[{\"type\":\"surface\",\"colorbar\":{\"outlinewidth\":0,\"ticks\":\"\"},\"colorscale\":[[0.0,\"#0d0887\"],[0.1111111111111111,\"#46039f\"],[0.2222222222222222,\"#7201a8\"],[0.3333333333333333,\"#9c179e\"],[0.4444444444444444,\"#bd3786\"],[0.5555555555555556,\"#d8576b\"],[0.6666666666666666,\"#ed7953\"],[0.7777777777777778,\"#fb9f3a\"],[0.8888888888888888,\"#fdca26\"],[1.0,\"#f0f921\"]]}],\"mesh3d\":[{\"type\":\"mesh3d\",\"colorbar\":{\"outlinewidth\":0,\"ticks\":\"\"}}],\"scatter\":[{\"fillpattern\":{\"fillmode\":\"overlay\",\"size\":10,\"solidity\":0.2},\"type\":\"scatter\"}],\"parcoords\":[{\"type\":\"parcoords\",\"line\":{\"colorbar\":{\"outlinewidth\":0,\"ticks\":\"\"}}}],\"scatterpolargl\":[{\"type\":\"scatterpolargl\",\"marker\":{\"colorbar\":{\"outlinewidth\":0,\"ticks\":\"\"}}}],\"bar\":[{\"error_x\":{\"color\":\"#2a3f5f\"},\"error_y\":{\"color\":\"#2a3f5f\"},\"marker\":{\"line\":{\"color\":\"#E5ECF6\",\"width\":0.5},\"pattern\":{\"fillmode\":\"overlay\",\"size\":10,\"solidity\":0.2}},\"type\":\"bar\"}],\"scattergeo\":[{\"type\":\"scattergeo\",\"marker\":{\"colorbar\":{\"outlinewidth\":0,\"ticks\":\"\"}}}],\"scatterpolar\":[{\"type\":\"scatterpolar\",\"marker\":{\"colorbar\":{\"outlinewidth\":0,\"ticks\":\"\"}}}],\"histogram\":[{\"marker\":{\"pattern\":{\"fillmode\":\"overlay\",\"size\":10,\"solidity\":0.2}},\"type\":\"histogram\"}],\"scattergl\":[{\"type\":\"scattergl\",\"marker\":{\"colorbar\":{\"outlinewidth\":0,\"ticks\":\"\"}}}],\"scatter3d\":[{\"type\":\"scatter3d\",\"line\":{\"colorbar\":{\"outlinewidth\":0,\"ticks\":\"\"}},\"marker\":{\"colorbar\":{\"outlinewidth\":0,\"ticks\":\"\"}}}],\"scattermapbox\":[{\"type\":\"scattermapbox\",\"marker\":{\"colorbar\":{\"outlinewidth\":0,\"ticks\":\"\"}}}],\"scatterternary\":[{\"type\":\"scatterternary\",\"marker\":{\"colorbar\":{\"outlinewidth\":0,\"ticks\":\"\"}}}],\"scattercarpet\":[{\"type\":\"scattercarpet\",\"marker\":{\"colorbar\":{\"outlinewidth\":0,\"ticks\":\"\"}}}],\"carpet\":[{\"aaxis\":{\"endlinecolor\":\"#2a3f5f\",\"gridcolor\":\"white\",\"linecolor\":\"white\",\"minorgridcolor\":\"white\",\"startlinecolor\":\"#2a3f5f\"},\"baxis\":{\"endlinecolor\":\"#2a3f5f\",\"gridcolor\":\"white\",\"linecolor\":\"white\",\"minorgridcolor\":\"white\",\"startlinecolor\":\"#2a3f5f\"},\"type\":\"carpet\"}],\"table\":[{\"cells\":{\"fill\":{\"color\":\"#EBF0F8\"},\"line\":{\"color\":\"white\"}},\"header\":{\"fill\":{\"color\":\"#C8D4E3\"},\"line\":{\"color\":\"white\"}},\"type\":\"table\"}],\"barpolar\":[{\"marker\":{\"line\":{\"color\":\"#E5ECF6\",\"width\":0.5},\"pattern\":{\"fillmode\":\"overlay\",\"size\":10,\"solidity\":0.2}},\"type\":\"barpolar\"}],\"pie\":[{\"automargin\":true,\"type\":\"pie\"}]},\"layout\":{\"autotypenumbers\":\"strict\",\"colorway\":[\"#636efa\",\"#EF553B\",\"#00cc96\",\"#ab63fa\",\"#FFA15A\",\"#19d3f3\",\"#FF6692\",\"#B6E880\",\"#FF97FF\",\"#FECB52\"],\"font\":{\"color\":\"#2a3f5f\"},\"hovermode\":\"closest\",\"hoverlabel\":{\"align\":\"left\"},\"paper_bgcolor\":\"white\",\"plot_bgcolor\":\"#E5ECF6\",\"polar\":{\"bgcolor\":\"#E5ECF6\",\"angularaxis\":{\"gridcolor\":\"white\",\"linecolor\":\"white\",\"ticks\":\"\"},\"radialaxis\":{\"gridcolor\":\"white\",\"linecolor\":\"white\",\"ticks\":\"\"}},\"ternary\":{\"bgcolor\":\"#E5ECF6\",\"aaxis\":{\"gridcolor\":\"white\",\"linecolor\":\"white\",\"ticks\":\"\"},\"baxis\":{\"gridcolor\":\"white\",\"linecolor\":\"white\",\"ticks\":\"\"},\"caxis\":{\"gridcolor\":\"white\",\"linecolor\":\"white\",\"ticks\":\"\"}},\"coloraxis\":{\"colorbar\":{\"outlinewidth\":0,\"ticks\":\"\"}},\"colorscale\":{\"sequential\":[[0.0,\"#0d0887\"],[0.1111111111111111,\"#46039f\"],[0.2222222222222222,\"#7201a8\"],[0.3333333333333333,\"#9c179e\"],[0.4444444444444444,\"#bd3786\"],[0.5555555555555556,\"#d8576b\"],[0.6666666666666666,\"#ed7953\"],[0.7777777777777778,\"#fb9f3a\"],[0.8888888888888888,\"#fdca26\"],[1.0,\"#f0f921\"]],\"sequentialminus\":[[0.0,\"#0d0887\"],[0.1111111111111111,\"#46039f\"],[0.2222222222222222,\"#7201a8\"],[0.3333333333333333,\"#9c179e\"],[0.4444444444444444,\"#bd3786\"],[0.5555555555555556,\"#d8576b\"],[0.6666666666666666,\"#ed7953\"],[0.7777777777777778,\"#fb9f3a\"],[0.8888888888888888,\"#fdca26\"],[1.0,\"#f0f921\"]],\"diverging\":[[0,\"#8e0152\"],[0.1,\"#c51b7d\"],[0.2,\"#de77ae\"],[0.3,\"#f1b6da\"],[0.4,\"#fde0ef\"],[0.5,\"#f7f7f7\"],[0.6,\"#e6f5d0\"],[0.7,\"#b8e186\"],[0.8,\"#7fbc41\"],[0.9,\"#4d9221\"],[1,\"#276419\"]]},\"xaxis\":{\"gridcolor\":\"white\",\"linecolor\":\"white\",\"ticks\":\"\",\"title\":{\"standoff\":15},\"zerolinecolor\":\"white\",\"automargin\":true,\"zerolinewidth\":2},\"yaxis\":{\"gridcolor\":\"white\",\"linecolor\":\"white\",\"ticks\":\"\",\"title\":{\"standoff\":15},\"zerolinecolor\":\"white\",\"automargin\":true,\"zerolinewidth\":2},\"scene\":{\"xaxis\":{\"backgroundcolor\":\"#E5ECF6\",\"gridcolor\":\"white\",\"linecolor\":\"white\",\"showbackground\":true,\"ticks\":\"\",\"zerolinecolor\":\"white\",\"gridwidth\":2},\"yaxis\":{\"backgroundcolor\":\"#E5ECF6\",\"gridcolor\":\"white\",\"linecolor\":\"white\",\"showbackground\":true,\"ticks\":\"\",\"zerolinecolor\":\"white\",\"gridwidth\":2},\"zaxis\":{\"backgroundcolor\":\"#E5ECF6\",\"gridcolor\":\"white\",\"linecolor\":\"white\",\"showbackground\":true,\"ticks\":\"\",\"zerolinecolor\":\"white\",\"gridwidth\":2}},\"shapedefaults\":{\"line\":{\"color\":\"#2a3f5f\"}},\"annotationdefaults\":{\"arrowcolor\":\"#2a3f5f\",\"arrowhead\":0,\"arrowwidth\":1},\"geo\":{\"bgcolor\":\"white\",\"landcolor\":\"#E5ECF6\",\"subunitcolor\":\"white\",\"showland\":true,\"showlakes\":true,\"lakecolor\":\"white\"},\"title\":{\"x\":0.05},\"mapbox\":{\"style\":\"light\"}}},\"xaxis\":{\"title\":{\"text\":\"Cities' Median Income\"},\"gridcolor\":\"white\",\"type\":\"log\",\"gridwidth\":2},\"yaxis\":{\"title\":{\"text\":\"Entry-Level Marketing Starting Salary\"},\"gridcolor\":\"white\",\"gridwidth\":2},\"title\":{\"text\":\"What is the best city to live in for entry level marketing professionals?\"},\"paper_bgcolor\":\"rgb(243, 243, 243)\",\"plot_bgcolor\":\"rgb(243, 243, 243)\"},                        {\"responsive\": true}                    ).then(function(){\n",
       "                            \n",
       "var gd = document.getElementById('ebb6ca36-2ba6-4c0a-bd20-9fa603e6dfd0');\n",
       "var x = new MutationObserver(function (mutations, observer) {{\n",
       "        var display = window.getComputedStyle(gd).display;\n",
       "        if (!display || display === 'none') {{\n",
       "            console.log([gd, 'removed!']);\n",
       "            Plotly.purge(gd);\n",
       "            observer.disconnect();\n",
       "        }}\n",
       "}});\n",
       "\n",
       "// Listen for the removal of the full notebook cells\n",
       "var notebookContainer = gd.closest('#notebook-container');\n",
       "if (notebookContainer) {{\n",
       "    x.observe(notebookContainer, {childList: true});\n",
       "}}\n",
       "\n",
       "// Listen for the clearing of the current output cell\n",
       "var outputEl = gd.closest('.output');\n",
       "if (outputEl) {{\n",
       "    x.observe(outputEl, {childList: true});\n",
       "}}\n",
       "\n",
       "                        })                };                });            </script>        </div>"
      ]
     },
     "metadata": {},
     "output_type": "display_data"
    }
   ],
   "source": [
    "# Load data, define hover text and bubble size\n",
    "data = pd.read_csv('Interactive Data Final Project.csv')\n",
    "\n",
    "data['Population'] = [int(x.strip(' ').replace(',', \"\")) for x in data['Cities Population']]\n",
    "\n",
    "data['Starting Salary'] = [int(x.strip(' ').strip('$').replace(',', \"\")) for x in data['Entry-Level Marketing Starting Salary']]\n",
    "\n",
    "data['Cities Median Income'][0].strip(' ').strip('$').replace(',', '')\n",
    "\n",
    "hover_text = []\n",
    "bubble_size = []\n",
    "\n",
    "\n",
    "\n",
    "for index, row in data.iterrows():\n",
    "    \n",
    "    hover_text.append(('U.S. City: {city}<br>'+\n",
    "                      'Entry-Level Marketing Starting Salary: {salary}<br>'+\n",
    "                      \"Cities' Median Income: {income}<br>\"+\n",
    "                      \"Cities' Population: {pop}<br>\"\n",
    "                      ).format(city=row['Popular U.S. Cities'],\n",
    "                                            salary=row['Entry-Level Marketing Starting Salary'],\n",
    "                                            income=row['Cities Median Income'],\n",
    "                                            pop=row['Cities Population'],\n",
    "                                            ))\n",
    "    bubble_size.append(math.sqrt(row['Population']))\n",
    "                      \n",
    "data['Population'] = hover_text\n",
    "data['Population'] = bubble_size\n",
    "\n",
    "sizeref = 2.*max(data['Population'])/(100**2)\n",
    "\n",
    "# Create figure\n",
    "fig = go.Figure(data=[go.Scatter(\n",
    "        x=data['Cities Median Income'], y=data['Starting Salary'],\n",
    "        text=hover_text,\n",
    "        mode='markers',\n",
    "        marker=dict(\n",
    "            color= data['Quotient'],\n",
    "            size= data['Population'],\n",
    "            showscale=True\n",
    "        ))\n",
    "                     ])\n",
    "\n",
    "# Tune marker appearance and layout\n",
    "fig.update_traces(mode='markers', marker=dict(sizemode='area',\n",
    "                                              sizeref=sizeref, line_width=2))\n",
    "\n",
    "fig.update_layout(\n",
    "    title='What is the best city to live in for entry level marketing professionals?',\n",
    "    xaxis=dict(\n",
    "        title=\"Cities' Median Income\",\n",
    "        gridcolor='white',\n",
    "        type='log',\n",
    "        gridwidth=2,\n",
    "    ),\n",
    "    yaxis=dict(\n",
    "        title='Entry-Level Marketing Starting Salary',\n",
    "        gridcolor='white',\n",
    "        gridwidth=2,\n",
    "    ),\n",
    "    paper_bgcolor='rgb(243, 243, 243)',\n",
    "    plot_bgcolor='rgb(243, 243, 243)',\n",
    ")\n",
    "\n",
    "fig.show()"
   ]
  },
  {
   "cell_type": "code",
   "execution_count": null,
   "id": "8ff2df72",
   "metadata": {},
   "outputs": [],
   "source": []
  }
 ],
 "metadata": {
  "kernelspec": {
   "display_name": "Python 3 (ipykernel)",
   "language": "python",
   "name": "python3"
  },
  "language_info": {
   "codemirror_mode": {
    "name": "ipython",
    "version": 3
   },
   "file_extension": ".py",
   "mimetype": "text/x-python",
   "name": "python",
   "nbconvert_exporter": "python",
   "pygments_lexer": "ipython3",
   "version": "3.9.16"
  }
 },
 "nbformat": 4,
 "nbformat_minor": 5
}
